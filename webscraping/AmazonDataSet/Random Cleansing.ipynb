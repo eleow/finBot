{
 "cells": [
  {
   "cell_type": "code",
   "execution_count": 1,
   "metadata": {},
   "outputs": [],
   "source": [
    "import pandas as pd\n",
    "import re\n",
    "pd.options.display.max_colwidth=1000"
   ]
  },
  {
   "cell_type": "code",
   "execution_count": 2,
   "metadata": {},
   "outputs": [],
   "source": [
    "df=pd.read_excel('/Users/shashanknigam/Downloads/nlp_project/shopBot/webscraping/AmazonDataSet/ProductDetails.xlsx',index_col=0)"
   ]
  },
  {
   "cell_type": "code",
   "execution_count": 3,
   "metadata": {},
   "outputs": [],
   "source": [
    "features = df['Features']"
   ]
  },
  {
   "cell_type": "code",
   "execution_count": 4,
   "metadata": {},
   "outputs": [],
   "source": [
    "string_replace = ['.*This fits your .     Enter your model numberto make sure this fits.    P.when(\"ReplacementPartsBulletLoader\").execute(function(module){ module.initializeDPX(); }) ','This fits your\\xa0.     Enter your model numberto make sure this fits.    P.when(\"ReplacementPartsBulletLoader\").execute(function(module){ module.initializeDPX(); }) ','This fits your\\xa0.     Make sure this fitsby entering your model number.    P.when(\"ReplacementPartsBulletLoader\").execute(function(module){ module.initializeDPX(); })','】','【','♫','♪','▶','❤','♬','✅','🎧']\n"
   ]
  },
  {
   "cell_type": "code",
   "execution_count": 5,
   "metadata": {},
   "outputs": [],
   "source": [
    "for i in string_replace:\n",
    "    df[\"Features\"]=df.Features.str.replace(i,\"\",regex=False)"
   ]
  },
  {
   "cell_type": "code",
   "execution_count": 6,
   "metadata": {},
   "outputs": [],
   "source": [
    "df.to_excel('/Users/shashanknigam/Downloads/nlp_project/shopBot/webscraping/AmazonDataSet/ProductDetails.xlsx')"
   ]
  },
  {
   "cell_type": "code",
   "execution_count": null,
   "metadata": {},
   "outputs": [],
   "source": []
  }
 ],
 "metadata": {
  "kernelspec": {
   "display_name": "Python 3",
   "language": "python",
   "name": "python3"
  },
  "language_info": {
   "codemirror_mode": {
    "name": "ipython",
    "version": 3
   },
   "file_extension": ".py",
   "mimetype": "text/x-python",
   "name": "python",
   "nbconvert_exporter": "python",
   "pygments_lexer": "ipython3",
   "version": "3.7.3"
  }
 },
 "nbformat": 4,
 "nbformat_minor": 4
}
