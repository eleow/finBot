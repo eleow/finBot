{
 "cells": [
  {
   "cell_type": "code",
   "execution_count": 1,
   "metadata": {},
   "outputs": [],
   "source": [
    "import pandas as pd\n",
    "import numpy as np\n",
    "import gensim\n",
    "import codecs\n",
    "from nltk.tokenize import sent_tokenize\n",
    "import math"
   ]
  },
  {
   "cell_type": "markdown",
   "metadata": {},
   "source": [
    "The data files in use \n",
    "We'll train the gensim model for the word2vec model"
   ]
  },
  {
   "cell_type": "code",
   "execution_count": 2,
   "metadata": {},
   "outputs": [],
   "source": [
    "glossary = pd.read_excel('/Users/shashanknigam/Downloads/nlp_project/shopBot/webscraping/glossary.xls',index_col=0)"
   ]
  },
  {
   "cell_type": "code",
   "execution_count": 3,
   "metadata": {},
   "outputs": [],
   "source": [
    "def preprocess(text):\n",
    "    text = text.lower()\n",
    "    text =sent_tokenize(text)\n",
    "    return text"
   ]
  },
  {
   "cell_type": "code",
   "execution_count": 4,
   "metadata": {},
   "outputs": [],
   "source": [
    "data_file = codecs.open('corpus','a+','utf-8')"
   ]
  },
  {
   "cell_type": "code",
   "execution_count": 5,
   "metadata": {},
   "outputs": [],
   "source": [
    "for i in glossary[\"Term\"]:\n",
    "    data = preprocess(i)\n",
    "    for j in data:\n",
    "        data_file.write(j)\n",
    "    \n",
    "for i in glossary[\"Description\"]:\n",
    "    data = preprocess(i)\n",
    "    for j in data:\n",
    "        data_file.write(j)"
   ]
  },
  {
   "cell_type": "code",
   "execution_count": 6,
   "metadata": {},
   "outputs": [],
   "source": [
    "data_file.close()\n",
    "del glossary"
   ]
  },
  {
   "cell_type": "code",
   "execution_count": 7,
   "metadata": {},
   "outputs": [],
   "source": [
    "data_review = codecs.open('/Users/shashanknigam/Downloads/nlp_project/shopBot/webscraping/headphone_reviews.txt','r','utf-8')"
   ]
  },
  {
   "cell_type": "code",
   "execution_count": 8,
   "metadata": {},
   "outputs": [],
   "source": [
    "data_file = codecs.open('corpus','a+','utf-8')"
   ]
  },
  {
   "cell_type": "code",
   "execution_count": 9,
   "metadata": {},
   "outputs": [],
   "source": [
    "for i in data_review:\n",
    "    data = preprocess(i)\n",
    "    for j in data:\n",
    "        data_file.write(j)"
   ]
  },
  {
   "cell_type": "code",
   "execution_count": 10,
   "metadata": {},
   "outputs": [],
   "source": [
    "data_file.close()\n",
    "data_review.close()"
   ]
  },
  {
   "cell_type": "code",
   "execution_count": 11,
   "metadata": {},
   "outputs": [],
   "source": [
    "df = pd.read_excel('/Users/shashanknigam/Downloads/nlp_project/shopBot/webscraping/treoo_dataset/description_earphone.xls',index_col=0)\n",
    "data_file = codecs.open('corpus','a+','utf-8')"
   ]
  },
  {
   "cell_type": "code",
   "execution_count": 12,
   "metadata": {},
   "outputs": [],
   "source": [
    "for i in df['Name']:\n",
    "    data = preprocess(i)\n",
    "    for j in data:\n",
    "        data_file.write(j)\n",
    "        \n",
    "for i in df['Features']:\n",
    "    data = preprocess(i)\n",
    "    for j in data:\n",
    "        data_file.write(j)\n",
    "\n",
    "for i in df['Miscellaneous']:\n",
    "    if pd.isnull(i):\n",
    "        pass\n",
    "    else:    \n",
    "        data = preprocess(i)\n",
    "        #print(data)\n",
    "        for j in data:\n",
    "            data_file.write(j)\n",
    "        "
   ]
  },
  {
   "cell_type": "code",
   "execution_count": 13,
   "metadata": {},
   "outputs": [],
   "source": [
    "data_file.close()\n",
    "del df"
   ]
  },
  {
   "cell_type": "code",
   "execution_count": 14,
   "metadata": {},
   "outputs": [],
   "source": [
    "df = pd.read_excel('/Users/shashanknigam/Downloads/nlp_project/shopBot/webscraping/treoo_dataset/feature_dictionary.xls',index_col=0)"
   ]
  },
  {
   "cell_type": "code",
   "execution_count": 15,
   "metadata": {},
   "outputs": [],
   "source": [
    "df['Feature_Name']=df['Feature_Name'].str.replace('•','')\n",
    "data_file = codecs.open('corpus','a+','utf-8')"
   ]
  },
  {
   "cell_type": "code",
   "execution_count": 16,
   "metadata": {},
   "outputs": [],
   "source": [
    "for i in df['Feature_Name']:\n",
    "    if not pd.isnull(i):\n",
    "        data=preprocess(i)\n",
    "        for j in data:\n",
    "            data_file.write(j)\n",
    "for i in df['Description']:\n",
    "    if not pd.isnull(i):\n",
    "        data=preprocess(i)\n",
    "        for j in data:\n",
    "            data_file.write(j)"
   ]
  },
  {
   "cell_type": "code",
   "execution_count": 17,
   "metadata": {},
   "outputs": [],
   "source": [
    "del df\n",
    "data_file.close()"
   ]
  },
  {
   "cell_type": "code",
   "execution_count": 18,
   "metadata": {},
   "outputs": [],
   "source": [
    "df = pd.read_excel('/Users/shashanknigam/Downloads/nlp_project/shopBot/webscraping/AmazonDataSet/ProductDictionary.xlsx',index_col=0)\n",
    "data_file = codecs.open('corpus','a+','utf-8')"
   ]
  },
  {
   "cell_type": "code",
   "execution_count": 19,
   "metadata": {},
   "outputs": [],
   "source": [
    "for i in df['Name']:\n",
    "    data = preprocess(i)\n",
    "    for j in data:\n",
    "        data_file.write(j)"
   ]
  },
  {
   "cell_type": "code",
   "execution_count": 20,
   "metadata": {},
   "outputs": [],
   "source": [
    "del df\n",
    "data_file.close()"
   ]
  },
  {
   "cell_type": "code",
   "execution_count": 21,
   "metadata": {},
   "outputs": [],
   "source": [
    "df = pd.read_excel('/Users/shashanknigam/Downloads/nlp_project/shopBot/webscraping/AmazonDataSet/ProductDetails.xlsx',index_col=0)\n",
    "data_file = codecs.open('corpus','a+','utf-8')"
   ]
  },
  {
   "cell_type": "code",
   "execution_count": 22,
   "metadata": {},
   "outputs": [],
   "source": [
    "for i in df['Features']:\n",
    "    if not pd.isnull(i):\n",
    "        data = preprocess(i)\n",
    "        for j in data:\n",
    "            data_file.write(j)"
   ]
  },
  {
   "cell_type": "code",
   "execution_count": 23,
   "metadata": {},
   "outputs": [],
   "source": [
    "data_file.close()\n",
    "del df"
   ]
  },
  {
   "cell_type": "code",
   "execution_count": 24,
   "metadata": {},
   "outputs": [],
   "source": [
    "df = pd.read_excel('/Users/shashanknigam/Downloads/nlp_project/shopBot/webscraping/AmazonDataSet/Description.xlsx',index_col=0)\n",
    "data_file = codecs.open('corpus','a+','utf-8')"
   ]
  },
  {
   "cell_type": "code",
   "execution_count": 25,
   "metadata": {},
   "outputs": [],
   "source": [
    "for i in df['ShortDescription']:\n",
    "    if not pd.isnull(i):\n",
    "        data = preprocess(str(i))\n",
    "        for j in data:\n",
    "            data_file.write(j)\n",
    "        \n",
    "for i in df['LongDescription']:\n",
    "    if not pd.isnull(i):\n",
    "        data=preprocess(str(i))\n",
    "        for j in data:\n",
    "            data_file.write(j)            "
   ]
  },
  {
   "cell_type": "code",
   "execution_count": 26,
   "metadata": {},
   "outputs": [],
   "source": [
    "del df \n",
    "data_file.close()"
   ]
  },
  {
   "cell_type": "code",
   "execution_count": 27,
   "metadata": {},
   "outputs": [],
   "source": [
    "df = pd.read_excel('/Users/shashanknigam/Downloads/nlp_project/shopBot/webscraping/AmazonDataSet/Review.xlsx',index_col=0)\n",
    "data_file = codecs.open('corpus','a+','utf-8')"
   ]
  },
  {
   "cell_type": "code",
   "execution_count": 28,
   "metadata": {},
   "outputs": [],
   "source": [
    "for i in df['Title']:\n",
    "    if not pd.isnull(i):\n",
    "        data=preprocess(str(i))\n",
    "        for j in data:\n",
    "            data_file.write(j)\n",
    "\n",
    "for i in df['Body']:\n",
    "    if not pd.isnull(i):\n",
    "        data=preprocess(str(i))\n",
    "        for j in data:\n",
    "            data_file.write(j)"
   ]
  },
  {
   "cell_type": "code",
   "execution_count": 29,
   "metadata": {},
   "outputs": [],
   "source": [
    "del df\n",
    "data_file.close()"
   ]
  },
  {
   "cell_type": "code",
   "execution_count": 30,
   "metadata": {},
   "outputs": [],
   "source": [
    "df = pd.read_excel('/Users/shashanknigam/Downloads/nlp_project/shopBot/webscraping/AmazonDataSet/QA.xlsx',index_col=0)\n",
    "data_file = codecs.open('corpus','a+','utf-8')"
   ]
  },
  {
   "cell_type": "code",
   "execution_count": 31,
   "metadata": {},
   "outputs": [],
   "source": [
    "for i in df['Question']:\n",
    "    data = preprocess(i)\n",
    "    for j in data:\n",
    "        data_file.write(j)\n",
    "        \n",
    "for i in df['Answer']:\n",
    "    if not pd.isnull(i):\n",
    "        data = preprocess(i)\n",
    "        for j in data:\n",
    "            data_file.write(j)"
   ]
  },
  {
   "cell_type": "code",
   "execution_count": 32,
   "metadata": {},
   "outputs": [],
   "source": [
    "del df\n",
    "data_file.close()"
   ]
  },
  {
   "cell_type": "code",
   "execution_count": null,
   "metadata": {},
   "outputs": [],
   "source": []
  },
  {
   "cell_type": "code",
   "execution_count": null,
   "metadata": {},
   "outputs": [],
   "source": []
  },
  {
   "cell_type": "code",
   "execution_count": null,
   "metadata": {},
   "outputs": [],
   "source": []
  }
 ],
 "metadata": {
  "kernelspec": {
   "display_name": "Python 3",
   "language": "python",
   "name": "python3"
  },
  "language_info": {
   "codemirror_mode": {
    "name": "ipython",
    "version": 3
   },
   "file_extension": ".py",
   "mimetype": "text/x-python",
   "name": "python",
   "nbconvert_exporter": "python",
   "pygments_lexer": "ipython3",
   "version": "3.7.3"
  }
 },
 "nbformat": 4,
 "nbformat_minor": 4
}
