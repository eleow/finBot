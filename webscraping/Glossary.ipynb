{
 "cells": [
  {
   "cell_type": "code",
   "execution_count": 1,
   "metadata": {
    "colab": {},
    "colab_type": "code",
    "id": "oEXZoar7CCls"
   },
   "outputs": [],
   "source": [
    "try:\n",
    "  import google.colab\n",
    "  IN_COLAB = True\n",
    "  \n",
    "  # # If using colab\n",
    "  # from google.colab import drive\n",
    "  # drive.mount('/content/drive')\n",
    "\n",
    "  # import os\n",
    "  # os.chdir('/content/drive/My Drive/Colab Notebooks/EBA5004')\n",
    "  # print('Working directory changed to ' + os.getcwd())\n",
    "\n",
    "except:\n",
    "  IN_COLAB = False\n"
   ]
  },
  {
   "cell_type": "code",
   "execution_count": null,
   "metadata": {
    "colab": {},
    "colab_type": "code",
    "id": "eDZ9hl-fA7II"
   },
   "outputs": [],
   "source": [
    "%%capture\n",
    "# Install dependencies -chromium, its driver, and selenium\n",
    "!apt-get update\n",
    "!apt install chromium-chromedriver\n",
    "!cp /usr/lib/chromium-browser/chromedriver /usr/bin\n",
    "!pip install selenium\n",
    "!pip install pyvirtualdisplay\n",
    "!sudo apt-get install xvfb"
   ]
  },
  {
   "cell_type": "code",
   "execution_count": 0,
   "metadata": {
    "colab": {},
    "colab_type": "code",
    "id": "zPTzOX_QBUNi"
   },
   "outputs": [],
   "source": [
    "from bs4 import BeautifulSoup as s\n",
    "import pandas as pd\n",
    "import re\n",
    "from tqdm import tqdm\n",
    "\n",
    "# set options to be headless\n",
    "from selenium import webdriver\n",
    "\n",
    "chrome_options = webdriver.ChromeOptions()\n",
    "chrome_options.add_argument('--headless')\n",
    "chrome_options.add_argument('--no-sandbox')\n",
    "chrome_options.add_argument('--disable-dev-shm-usage')\n",
    "# driver = webdriver.Chrome('chromedriver', chrome_options=chrome_options)\n",
    "\n",
    "# function definitions\n",
    "def web_browser(web):\n",
    "    # browser = webdriver.Safari()\n",
    "    browser = webdriver.Chrome('chromedriver', options=chrome_options)\n",
    "    browser.get(web)\n",
    "    content = browser.page_source\n",
    "    return content\n",
    "\n",
    "def updateDict(dict, key, desc, src, bPreferShort = True):\n",
    "    \n",
    "    # preprocess key to remove unwanted characters such as ',\",®, etc\n",
    "    k = re.sub('[^\\w\\-\\.\\/]+',' ', key.lower()).strip()\n",
    "\n",
    "    # update value (choose shorter/longer value if exists)\n",
    "    if k in dict and (len(desc) > len(dict[k]['desc']) if bPreferShort else len(desc) < len(dict[k]['desc'])): \n",
    "      return\n",
    "\n",
    "    dict[k] = {\n",
    "        'desc': desc,\n",
    "        'src': src\n",
    "    }\n",
    "\n",
    "def getDetailsDict(dict):\n",
    "  print('Dictionary: ')\n",
    "  print(' num keys: ', len(dict))\n",
    "\n",
    "  v = list(dict.values())\n",
    "  unique_src = set([ t['src'] for t in v])\n",
    "  print(' sources:', unique_src)\n"
   ]
  },
  {
   "cell_type": "markdown",
   "metadata": {
    "colab_type": "text",
    "id": "Zo3qu_o3upJQ"
   },
   "source": [
    "## Scrape Data"
   ]
  },
  {
   "cell_type": "code",
   "execution_count": 20,
   "metadata": {
    "colab": {
     "base_uri": "https://localhost:8080/",
     "height": 70
    },
    "colab_type": "code",
    "id": "_k-ON2J59-lf",
    "outputId": "cbdba624-8934-48ba-de27-0763e70cbb1f"
   },
   "outputs": [
    {
     "name": "stdout",
     "output_type": "stream",
     "text": [
      "Dictionary: \n",
      " num keys:  63\n",
      " sources: {'https://www.headphones.com/pages/glossary'}\n"
     ]
    }
   ],
   "source": [
    "# Scrape from headphones.com\n",
    "url=\"https://www.headphones.com/pages/glossary\"\n",
    "webpage = web_browser(url)\n",
    "soup = s(webpage,'html.parser')\n",
    "# print(soup.get_text())\n",
    "\n",
    "glossary = {}\n",
    "soupGlossary = s(str(soup))\n",
    "for i,p in enumerate(soupGlossary.select(\"div.rte.rte--nomargin p\")):\n",
    "  if len(p.select(\"b\")) != 0: \n",
    "    t = p.find(\"b\").extract()\n",
    "\n",
    "    if (p.text.strip() != ''):\n",
    "      k = t.text.strip().lower()\n",
    "      v = p.text.strip()\n",
    "      updateDict(glossary, k, v, url)\n",
    "\n",
    "getDetailsDict(glossary)"
   ]
  },
  {
   "cell_type": "code",
   "execution_count": 21,
   "metadata": {
    "colab": {
     "base_uri": "https://localhost:8080/",
     "height": 70
    },
    "colab_type": "code",
    "id": "R8EM-C_89uTv",
    "outputId": "a6c300f3-c4cc-4617-f11f-82f5928dc032"
   },
   "outputs": [
    {
     "name": "stdout",
     "output_type": "stream",
     "text": [
      "Dictionary: \n",
      " num keys:  94\n",
      " sources: {'https://www.crutchfield.com/S-P3Fy2Oh1DMm/learn/headphones-glossary.html', 'https://www.headphones.com/pages/glossary'}\n"
     ]
    }
   ],
   "source": [
    "# Scrape from https://www.crutchfield.com/S-P3Fy2Oh1DMm/learn/headphones-glossary.html\n",
    "# -- Note: This site has very poorly formatted HTML pages, which makes scrapping very troublesome and difficult\n",
    "from bs4 import BeautifulSoup, NavigableString, Tag\n",
    "\n",
    "url=\"https://www.crutchfield.com/S-P3Fy2Oh1DMm/learn/headphones-glossary.html\"\n",
    "webpage = web_browser(url)\n",
    "soup = s(webpage,'html.parser')\n",
    "# print(soup.get_text())\n",
    "\n",
    "soupGlossary = s(str(soup))\n",
    "for i,p in enumerate(soupGlossary.select(\"div#jump p\")):\n",
    "  bt = p.select(\"span.boldText\")\n",
    "\n",
    "  if len(bt) != 0: \n",
    "    nextSibling = bt[0].nextSibling\n",
    "    \n",
    "    # exclude it when the boldText is used for emphasis instead of as a heading.. zz\n",
    "    if not isinstance(nextSibling, NavigableString):       \n",
    "      k = bt[0].text.strip().lower()\n",
    "      bt[0].extract()\n",
    "      v = p.text.strip()\n",
    "\n",
    "      if (len(v) != 0): updateDict(glossary, k, v, url)\n",
    "\n",
    "getDetailsDict(glossary)"
   ]
  },
  {
   "cell_type": "code",
   "execution_count": 22,
   "metadata": {
    "colab": {
     "base_uri": "https://localhost:8080/",
     "height": 70
    },
    "colab_type": "code",
    "id": "I7DQ4vwJV4DP",
    "outputId": "3570710a-e34b-4564-d959-7021bad387e3"
   },
   "outputs": [
    {
     "name": "stdout",
     "output_type": "stream",
     "text": [
      "Dictionary: \n",
      " num keys:  116\n",
      " sources: {'https://www.crutchfield.com/S-P3Fy2Oh1DMm/learn/headphones-glossary.html', 'https://www.headphones.com/pages/glossary', 'https://krisp.ai/blog/glossary-headphone-terms/'}\n"
     ]
    }
   ],
   "source": [
    "# Scrape from https://krisp.ai/blog/glossary-headphone-terms/\n",
    "from bs4 import BeautifulSoup, NavigableString, Tag\n",
    "import re\n",
    "\n",
    "url = \"https://krisp.ai/blog/glossary-headphone-terms/\"\n",
    "webpage = web_browser(url)\n",
    "soup = s(webpage, 'html.parser')\n",
    "\n",
    "soupGlossary = s(str(soup))\n",
    "\n",
    "for i,p in enumerate(soupGlossary.select(\"div.post_content h2\")):\n",
    "\n",
    "  k = re.sub(r'[0-9]*\\)\\s', '', p.text.strip()) # get key - remove numbering prefix\n",
    "  # print(p.text)\n",
    "\n",
    "  # loop through sibling to retrieve description until next h2\n",
    "  nextNode = p\n",
    "  v_arr = []\n",
    "  while True:\n",
    "    nextNode = nextNode.nextSibling\n",
    "    if nextNode is None: break\n",
    "    # if isinstance(nextNode, NavigableString): print(nextNode.strip())\n",
    "    if isinstance(nextNode, Tag):\n",
    "      if nextNode.name == \"h2\": break\n",
    "      v_arr.append(nextNode.get_text(strip=False).strip())\n",
    "  \n",
    "  # print(' '.join(v_arr).strip())\n",
    "  v = ''.join(v_arr).strip()\n",
    "\n",
    "  updateDict(glossary, k, v, url)\n",
    "\n",
    "getDetailsDict(glossary)\n"
   ]
  },
  {
   "cell_type": "code",
   "execution_count": 23,
   "metadata": {
    "colab": {
     "base_uri": "https://localhost:8080/",
     "height": 54
    },
    "colab_type": "code",
    "id": "L5OKqJazCVDS",
    "outputId": "3aa87401-4653-420b-ac62-a89172198f9b"
   },
   "outputs": [
    {
     "name": "stdout",
     "output_type": "stream",
     "text": [
      "['analog', 'balanced headphones', 'behind-the-neck', 'bright', 'circumaural', 'closed', 'coaxial', 'coherent', 'crossfeed', 'dac', 'damping factor', 'dbr', 'digital', 'digital inputs', 'distortion', 'driver', 'ear headphone', 'earbud', 'earpad', 'efficiency', 'filter switch', 'frequency response', 'full size', 'gain switch', 'harmonic distortion', 'headphone amplifier', 'headphone efficiency', 'headphone sensitivity', 'image depth', 'image width', 'imaging', 'impedance', 'in-ear monitor', 'input impedance', 'isolation', 'laid back', 'linear amplifier', 'liquid sounding', 'listening fatigue', 'lush', 'op-amp', 'opa 627', 'open', 'optical', 'otl tube amps', 'output impedance', 'power amplifier', 'power supply', 'punch', 'resonance', 's/pdif', 'sealed', 'self-powered speakers', 'solid state', 'soundstage', 'square wave response', 'supra-aural', 'transient response', 'transistor', 'tube amplifier', 'usb', 'warmth', 'wireless', '2.4 ghz', 'airline adapter', 'armature', 'around-the-ear', 'asymmetrical cord', 'bluetooth', 'binaural recording', 'decibel db', 'ear clips', 'earbud gels', 'earcup', 'ear hangers', 'folding headband', 'full-sized jack', 'in-the-ear', 'infrared ir transmission', 'mini plug', 'neodymium magnets', 'noise attenuation', 'noise-compensation', 'noise-isolating', 'ohms', 'on-the-ear', 'portable headphones', 'radio frequency rf transmission', 'single-sided cord', 'speaker', 'sport headphones', 'swivel earcups', 'talkthrough button', 'virtual surround sound', '900 mhz', 'all discrete', 'amplifier', 'attenuator', 'automatic call distributor', 'biaural or binaural', 'boom microphone', 'closed-back', 'convertible headphones', 'clipping', 'custom earphones', 'current', 'directional microphones', 'decibel', 'diy', 'in-ear', 'mp3 mpeg layer 3 file.', 'noise cancelling headphones', 'on-ear', 'over-ear', 'omni-directional', 'voip']\n"
     ]
    }
   ],
   "source": [
    "print(list(glossary.keys()))"
   ]
  },
  {
   "cell_type": "markdown",
   "metadata": {
    "colab_type": "text",
    "id": "_Ya5ggOOutVU"
   },
   "source": [
    "## Export data"
   ]
  },
  {
   "cell_type": "code",
   "execution_count": 0,
   "metadata": {
    "colab": {},
    "colab_type": "code",
    "id": "3YoWtWA5Nwvt"
   },
   "outputs": [],
   "source": [
    "import pandas as pd\n",
    "\n",
    "# convert dict to list of tuples\n",
    "glossary_list = list(zip(glossary.keys(), glossary.values()))\n",
    "glossary_tuple = [ (t[0], t[1]['desc'], t[1]['src']) for t in glossary_list]\n",
    "glossary_tuple = sorted(glossary_tuple, key=lambda x: x[0], reverse=False)\n",
    "\n",
    "# save in excel\n",
    "df = pd.DataFrame(glossary_tuple, columns=['Term', 'Description', 'Source'])\n",
    "df.to_excel('glossary.xls')\n",
    "\n",
    "# save pickle (time-stamp filename just in case, sites are blocked or are changed)\n",
    "from datetime import datetime\n",
    "import pickle\n",
    "suffix = datetime.now().strftime(\"%Y_%m_%d\")\n",
    "with open('glossary_' + suffix + '.pickle', 'wb') as handle:\n",
    "    pickle.dump(glossary, handle, protocol=pickle.HIGHEST_PROTOCOL)\n"
   ]
  },
  {
   "cell_type": "markdown",
   "metadata": {
    "colab_type": "text",
    "id": "dVPsa9XnGwac"
   },
   "source": [
    "## Testing"
   ]
  },
  {
   "cell_type": "code",
   "execution_count": 0,
   "metadata": {
    "colab": {},
    "colab_type": "code",
    "id": "twxxm6XVtubJ"
   },
   "outputs": [],
   "source": [
    "import pickle\n",
    "import glob\n",
    "# load most recent pickle file\n",
    "mypickle = sorted(glob.glob('./glossary_*.pickle'), reverse=True)\n",
    "with open(mypickle[0], 'rb') as handle:\n",
    "  glossary = pickle.load(handle)"
   ]
  },
  {
   "cell_type": "markdown",
   "metadata": {
    "colab_type": "text",
    "id": "BXodS-62s7su"
   },
   "source": [
    "### Word similarity"
   ]
  },
  {
   "cell_type": "code",
   "execution_count": 0,
   "metadata": {
    "colab": {},
    "colab_type": "code",
    "id": "6iAkSg3RJAO1"
   },
   "outputs": [],
   "source": [
    "%%capture\n",
    "# Get spacy models\n",
    "!python -m spacy download en_core_web_sm\n",
    "!python -m spacy download en_core_web_md"
   ]
  },
  {
   "cell_type": "code",
   "execution_count": 0,
   "metadata": {
    "colab": {},
    "colab_type": "code",
    "id": "eSqOe0foGzHs"
   },
   "outputs": [],
   "source": [
    "# Get similarity of two words - query term vs glossary term\n",
    "if IN_COLAB:\n",
    "  import en_core_web_md\n",
    "  nlp = en_core_web_md.load()\n",
    "else:\n",
    "  import spacy \n",
    "  nlp = spacy.load('en_core_web_md') "
   ]
  },
  {
   "cell_type": "code",
   "execution_count": 0,
   "metadata": {
    "colab": {
     "base_uri": "https://localhost:8080/",
     "height": 90
    },
    "colab_type": "code",
    "id": "4Ud4zoLKJ98Q",
    "outputId": "e65f38c3-f45b-4ea3-87d0-ffa66880bc04"
   },
   "outputs": [
    {
     "name": "stdout",
     "output_type": "stream",
     "text": [
      "[(in-ear monitor, 0.923780920833621), (in-ear, 0.7657072884595223), (over-ear, 0.6971400142243328), (ear headphone, 0.6746689610199131), (in-the-ear, 0.670699913251981), (on-ear, 0.6645468958381086), (ear clips, 0.6496424273310502), (around-the-ear, 0.6418729406675013), (ear hangers, 0.6362281562916151), (biaural or binaural, 0.6356913652869836), (on-the-ear, 0.607228467157929), (virtual surround sound, 0.5722404131729087), (binaural recording, 0.5692446755143804), (headphone sensitivity, 0.5608975877053368), (balanced headphones, 0.5524378211388962), (portable headphones, 0.5414444348146429), (custom earphones, 0.5399969324642944), (behind-the-neck, 0.5311743960727074), (frequency response, 0.5287875285996619), (sport headphones, 0.5287825550868984), (noise cancelling headphones, 0.5263969817200289), (noise attenuation, 0.5245994629592661), (square wave response, 0.5129230763278021), (noise-isolating, 0.5103457957079598), (boom microphone, 0.5072525959043113), (headphone efficiency, 0.5063990273899495), (listening fatigue, 0.4982467341210658), (swivel earcups, 0.4956105826304747), (noise-compensation, 0.4911855946888719), (laid back, 0.4898189344250572), (all discrete, 0.4885459475934453), (solid state, 0.4849535785903543), (full-sized jack, 0.4840727865711953), (closed-back, 0.48107895032879994), (earbud gels, 0.4790374364766946), (single-sided cord, 0.4781898430970821), (mini plug, 0.4780359944353889), (gain switch, 0.4750173505410604), (self-powered speakers, 0.47328917455291286), (digital inputs, 0.46636566011687164), (damping factor, 0.45472641025109006), (infrared ir transmission, 0.45329507533087476), (radio frequency rf transmission, 0.44689409662868806), (liquid sounding, 0.44547856767357913), (full size, 0.4451421294033272), (open, 0.44336440667359966), (asymmetrical cord, 0.43951731891198437), (power supply, 0.4395085676695423), (circumaural, 0.43836228286398105), (earbud, 0.43836228286398105), (earpad, 0.43836228286398105), (earcup, 0.43836228286398105), (omni-directional, 0.43759155977326863), (wireless, 0.4367388768103025), (transient response, 0.4354064230045047), (filter switch, 0.42610369425680905), (speaker, 0.42129863646812454), (directional microphones, 0.4192774858457428), (image depth, 0.41658765359623595), (digital, 0.40655388859055064), (closed, 0.40470504565360393), (headphone amplifier, 0.4025907032567422), (decibel, 0.40231907793302485), (bright, 0.3933870801803781), (talkthrough button, 0.3927861108885905), (tube amplifier, 0.39119344894148644), (imaging, 0.3847307910124891), (current, 0.3826575014727006), (bluetooth, 0.3826174434411425), (power amplifier, 0.37997192218905146), (convertible headphones, 0.3778599785354743), (automatic call distributor, 0.3774008923402748), (decibel db, 0.37681494865712917), (mp3 mpeg layer 3 file, 0.3730420494956855), (image width, 0.365482131426921), (analog, 0.3636314631433122), (isolation, 0.36314638975387736), (optical, 0.36118541367358703), (airline adapter, 0.35428990651734993), (input impedance, 0.34681401246657245), (resonance, 0.34227981569180793), (harmonic distortion, 0.3419449466302042), (output impedance, 0.3298540276656696), (warmth, 0.3252516596674281), (usb, 0.3250527224414169), (efficiency, 0.31755692961957155), (distortion, 0.31738743176653966), (driver, 0.3126653298384121), (folding headband, 0.3113047170606182), (armature, 0.31033835813728355), (op-amp, 0.3065736402834485), (coaxial, 0.29114428386463), (sealed, 0.28388796134692507), (linear amplifier, 0.28139480743392126), (s pdif, 0.2801274431016243), (transistor, 0.27812280189637784), (punch, 0.2616190068487896), (supra-aural, 0.25997100136933754), (otl tube amps, 0.25991312042556164), (amplifier, 0.25820360912249724), (clipping, 0.25372337586911814), (neodymium magnets, 0.2529975797450762), (coherent, 0.21010600250315425), (diy, 0.20866524961194463), (2 4 ghz, 0.18684008661909524), (soundstage, 0.17973779097055975), (900 mhz, 0.16733015383049446), (lush, 0.15802686068878471), (impedance, 0.14223434786667444), (ohms, 0.14223434786667444), (attenuator, 0.14223434786667444), (voip, 0.11386126962898911), (dac, 0.05374303790401336), (opa 627, 0.05270185221324363), (crossfeed, -0.23449755067602088), (dbr, -0.24039497006067503)]\n",
      "Query: in ear monitor\n",
      "Result: Another term for In-ear headphones but also commonly known as IEMs, ear canal headphones, earphones, and canal-phones. In-ear headphones are inserted into and seal the ear canal and provide the highest amount of isolation from outside noise of any headphone type including noise-canceling headphones. There are two types of in-ear headphones: deep sealing and shallow sealing. With deep seating in-ear headphones, the tip of the earphone goes in about half the length of the ear canal and seats in the bony section of the ear canal; this type provides about -23dB of isolation. Shallow seating types seal closer to the entrance to the ear canal and provide about -15dB of isolation.\n"
     ]
    }
   ],
   "source": [
    "stop_words = [] # to add if necessary\n",
    "query = 'in ear monitor'\n",
    "\n",
    "# pre-process query\n",
    "query_nlp = nlp(query)\n",
    "query_no_stop_nlp = nlp(' '.join([t.text for t in query_nlp if t.text.lower() not in stop_words]))\n",
    "\n",
    "# compare with our glossary\n",
    "keys_nlp = [nlp(k) for k in list(glossary.keys())]\n",
    "similarity_nlp = [(k, query_no_stop_nlp.similarity(k)) for k in keys_nlp]\n",
    "results = sorted(similarity_nlp, key=lambda x: x[1], reverse=True)\n",
    "print(results)\n",
    "\n",
    "# return description for top results\n",
    "print('Query:', query)\n",
    "print('Result:', glossary[results[0][0].text]['desc'])"
   ]
  },
  {
   "cell_type": "code",
   "execution_count": 0,
   "metadata": {
    "colab": {},
    "colab_type": "code",
    "id": "icT7JBLrvkRM"
   },
   "outputs": [],
   "source": []
  },
  {
   "cell_type": "markdown",
   "metadata": {
    "colab_type": "text",
    "id": "ATs70VYqvku-"
   },
   "source": [
    "### Question Answering Model"
   ]
  },
  {
   "cell_type": "markdown",
   "metadata": {
    "colab_type": "text",
    "id": "Kftvf17h9g1E"
   },
   "source": [
    "Question Answering with Pretrained BERT model on SQuAD dataset\n",
    "\n",
    "See http://docs.deeppavlov.ai/en/master/features/models/squad.html#"
   ]
  },
  {
   "cell_type": "code",
   "execution_count": 0,
   "metadata": {
    "colab": {},
    "colab_type": "code",
    "id": "fM75t9qewr7t"
   },
   "outputs": [],
   "source": [
    "!pip install deeppavlov\n",
    "!pip install email-validator\n",
    "!python -m deeppavlov install squad_bert"
   ]
  },
  {
   "cell_type": "code",
   "execution_count": 0,
   "metadata": {
    "colab": {},
    "colab_type": "code",
    "id": "LeZVs8o9x758"
   },
   "outputs": [],
   "source": [
    "from deeppavlov import build_model, configs\n",
    "model = build_model(configs.squad.squad, download=True) # Default, but assumes answer is within context\n",
    "model_noans = build_model(configs.squad.multi_squad_noans, download=True) # SQuAD with contexts without correct answers\n"
   ]
  },
  {
   "cell_type": "code",
   "execution_count": 0,
   "metadata": {
    "colab": {
     "base_uri": "https://localhost:8080/",
     "height": 459
    },
    "colab_type": "code",
    "id": "ujGNDa8r2zRP",
    "outputId": "7432e5a8-043d-4b80-9157-9d1f5aa8324b"
   },
   "outputs": [
    {
     "name": "stdout",
     "output_type": "stream",
     "text": [
      "********************************************************************************\n",
      "Context:  ['Just as “calories” is the basic unit of energy as written on food labels, “decibels” is the basic unit of sound.']\n",
      "Query: ['How did I come here?']\n",
      "Answer 1: Just as “calories” is the basic unit of energy\n",
      "Answer 2: I don't know!\n",
      "\n",
      "Query: ['What is the basic unit']\n",
      "Answer 1: decibels”\n",
      "Answer 2: decibels\n",
      "\n",
      "********************************************************************************\n",
      "Context:  ['\\nA headphone amplifier is a miniature audio power amplifier specifically designed to drive the miniature audio drivers in headphones. \\nHeadphone amplifiers work essentially\\xa0the same as power amplifiers used to drive speakers except they are much lower power and need to be capable of driving a wider range of impedance (~20-600 Ohms) than speaker amplifiers (4-8 Ohms). \\nHeadphone amplifiers typically range between 0.1 to 1 Watt and about 0.2 to 2 Ohms output impedance.\\n']\n",
      "Query: ['why am I here?']\n",
      "Answer 1: to drive the miniature audio drivers in headphones\n",
      "Answer 2: I don't know!\n",
      "\n",
      "Query: ['how are earcups connected?']\n",
      "Answer 1: headphone amplifier is a miniature audio power amplifier\n",
      "Answer 2: I don't know!\n",
      "\n",
      "Query: ['what is a headphone amplifier']\n",
      "Answer 1: a miniature audio power amplifier\n",
      "Answer 2: a miniature audio power amplifier\n",
      "\n"
     ]
    }
   ],
   "source": [
    "def getAnswer(c, queries, prettify=True):\n",
    "  print('*'*80)\n",
    "  print('Context: ', c)\n",
    "  for q in queries:\n",
    "    a1 = model(c, [q])\n",
    "    a2 = model_noans(c, [q])\n",
    "    print('Query:', [q])\n",
    "\n",
    "    if (prettify):\n",
    "      a1 = a1[0][0]\n",
    "      a2 = a2[0][0]\n",
    "      a2 = a2 if a2 !='' else 'I don\\'t know!'\n",
    "    print('Answer 1:', a1)\n",
    "    print('Answer 2:', a2)\n",
    "    print()\n",
    "\n",
    "c='Just as “calories” is the basic unit of energy as written on food labels, “decibels” is the basic unit of sound.'\n",
    "# getAnswer([c],['What is the basic unit']) # Test with irrelevant question\n",
    "getAnswer([c],['How did I come here?', 'What is the basic unit']) # Test with irrelevant question\n",
    "\n",
    "c2='''\n",
    "A headphone amplifier is a miniature audio power amplifier specifically designed to drive the miniature audio drivers in headphones. \n",
    "Headphone amplifiers work essentially the same as power amplifiers used to drive speakers except they are much lower power and need to be capable of driving a wider range of impedance (~20-600 Ohms) than speaker amplifiers (4-8 Ohms). \n",
    "Headphone amplifiers typically range between 0.1 to 1 Watt and about 0.2 to 2 Ohms output impedance.\n",
    "'''\n",
    "\n",
    "getAnswer([c2], ['why am I here?', 'how are earcups connected?', 'what is a headphone amplifier']) \n",
    "\n"
   ]
  },
  {
   "cell_type": "code",
   "execution_count": 0,
   "metadata": {
    "colab": {
     "base_uri": "https://localhost:8080/",
     "height": 213
    },
    "colab_type": "code",
    "id": "Douybq0H773i",
    "outputId": "a997168f-6eb6-487a-8393-dc79a31d94f0"
   },
   "outputs": [
    {
     "name": "stdout",
     "output_type": "stream",
     "text": [
      "********************************************************************************\n",
      "Context:  ['\\nThe U.S. is ready to engage in talks about North Korea’s nuclear program even as it maintains pressure on Kim Jong Un’s regime, the Washington Post reported, citing an interview with Vice President Mike Pence. Pence and South Korea’s President Moon Jae-in agreed on a post-Olympics strategy during conversations at the Winter Olympics in the South Korean resort of Pyeongchang that Pence dubbed “maximum pressure and engagement at the same time.” Pence spoke in an interview on his way home from the Winter Olympics. “The point is, no pressure comes off until they are actually doing something that the alliance believes represents a meaningful step toward denuclearization,” the Post quoted Pence as saying. “So the maximum pressure campaign is going to continue and intensify. But if you want to talk, we’ll talk.”\\n']\n",
      "Query: ['What movie did I watch?']\n",
      "Answer 1: Pence\n",
      "Answer 2: I don't know!\n",
      "\n",
      "Query: ['who is ready to engage in talks']\n",
      "Answer 1: The U.S.\n",
      "Answer 2: The U.S.\n",
      "\n"
     ]
    }
   ],
   "source": [
    "context = '''\n",
    "The U.S. is ready to engage in talks about North Korea’s nuclear program even as it maintains pressure on Kim Jong Un’s regime, the Washington Post reported, citing an interview with Vice President Mike Pence. Pence and South Korea’s President Moon Jae-in agreed on a post-Olympics strategy during conversations at the Winter Olympics in the South Korean resort of Pyeongchang that Pence dubbed “maximum pressure and engagement at the same time.” Pence spoke in an interview on his way home from the Winter Olympics. “The point is, no pressure comes off until they are actually doing something that the alliance believes represents a meaningful step toward denuclearization,” the Post quoted Pence as saying. “So the maximum pressure campaign is going to continue and intensify. But if you want to talk, we’ll talk.”\n",
    "'''\n",
    "getAnswer([context], ['What movie did I watch?', 'who is ready to engage in talks']) \n"
   ]
  },
  {
   "cell_type": "markdown",
   "metadata": {
    "colab_type": "text",
    "id": "Di5jRaSatF5A"
   },
   "source": [
    "## Useful links"
   ]
  },
  {
   "cell_type": "markdown",
   "metadata": {
    "colab_type": "text",
    "id": "M1_6I1UItJy1"
   },
   "source": [
    " https://medium.com/@adriensieg/text-similarities-da019229c894"
   ]
  },
  {
   "cell_type": "markdown",
   "metadata": {
    "colab_type": "text",
    "id": "NQ2ZGdvZtQNB"
   },
   "source": [
    "http://docs.deeppavlov.ai/en/master/features/models/squad.html"
   ]
  }
 ],
 "metadata": {
  "colab": {
   "collapsed_sections": [],
   "name": "Glossary.ipynb",
   "provenance": [],
   "toc_visible": true
  },
  "kernelspec": {
   "display_name": "Python 3",
   "language": "python",
   "name": "python3"
  },
  "language_info": {
   "codemirror_mode": {
    "name": "ipython",
    "version": 3
   },
   "file_extension": ".py",
   "mimetype": "text/x-python",
   "name": "python",
   "nbconvert_exporter": "python",
   "pygments_lexer": "ipython3",
   "version": "3.6.9"
  }
 },
 "nbformat": 4,
 "nbformat_minor": 1
}
