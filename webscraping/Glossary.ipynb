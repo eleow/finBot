{
 "cells": [
  {
   "cell_type": "code",
   "execution_count": 1,
   "metadata": {
    "colab": {},
    "colab_type": "code",
    "id": "oEXZoar7CCls"
   },
   "outputs": [],
   "source": [
    "try:\n",
    "  import google.colab\n",
    "  IN_COLAB = True\n",
    "  \n",
    "  # # If using colab\n",
    "  # from google.colab import drive\n",
    "  # drive.mount('/content/drive')\n",
    "\n",
    "  # import os\n",
    "  # os.chdir('/content/drive/My Drive/Colab Notebooks/EBA5004')\n",
    "  # print('Working directory changed to ' + os.getcwd())\n",
    "\n",
    "except:\n",
    "  IN_COLAB = False\n"
   ]
  },
  {
   "cell_type": "code",
   "execution_count": null,
   "metadata": {
    "colab": {},
    "colab_type": "code",
    "id": "eDZ9hl-fA7II"
   },
   "outputs": [],
   "source": [
    "%%capture\n",
    "# Install dependencies -chromium, its driver, and selenium\n",
    "!apt-get update\n",
    "!apt install chromium-chromedriver\n",
    "!cp /usr/lib/chromium-browser/chromedriver /usr/bin\n",
    "!pip install selenium\n",
    "!pip install pyvirtualdisplay\n",
    "!sudo apt-get install xvfb"
   ]
  },
  {
   "cell_type": "code",
   "execution_count": 1,
   "metadata": {
    "colab": {},
    "colab_type": "code",
    "id": "zPTzOX_QBUNi"
   },
   "outputs": [],
   "source": [
    "from bs4 import BeautifulSoup as s\n",
    "import pandas as pd\n",
    "import re\n",
    "from tqdm import tqdm\n",
    "\n",
    "# set options to be headless\n",
    "from selenium import webdriver\n",
    "\n",
    "chrome_options = webdriver.ChromeOptions()\n",
    "chrome_options.add_argument('--headless')\n",
    "chrome_options.add_argument('--no-sandbox')\n",
    "chrome_options.add_argument('--disable-dev-shm-usage')\n",
    "# driver = webdriver.Chrome('chromedriver', chrome_options=chrome_options)\n",
    "\n",
    "# function definitions\n",
    "def web_browser(web):\n",
    "    # browser = webdriver.Safari()\n",
    "    browser = webdriver.Chrome('chromedriver_79', options=chrome_options)\n",
    "    browser.get(web)\n",
    "    content = browser.page_source\n",
    "    return content\n",
    "\n",
    "def updateDict(dict, key, desc, src, bPreferShort = True):\n",
    "    \n",
    "    # preprocess key to remove unwanted characters such as ',\",®, etc\n",
    "    k = re.sub('[^\\w\\-\\.\\/]+',' ', key.lower()).strip()\n",
    "\n",
    "    # update value (choose shorter/longer value if exists)\n",
    "    if k in dict and (len(desc) > len(dict[k]['desc']) if bPreferShort else len(desc) < len(dict[k]['desc'])): \n",
    "      return\n",
    "\n",
    "    dict[k] = {\n",
    "        'desc': desc,\n",
    "        'src': src\n",
    "    }\n",
    "\n",
    "def getDetailsDict(dict):\n",
    "  print('Dictionary: ')\n",
    "  print(' num keys: ', len(dict))\n",
    "\n",
    "  v = list(dict.values())\n",
    "  unique_src = set([ t['src'] for t in v])\n",
    "  print(' sources:', unique_src)\n",
    ""
   ]
  },
  {
   "cell_type": "markdown",
   "metadata": {
    "colab_type": "text",
    "id": "Zo3qu_o3upJQ"
   },
   "source": [
    "## Scrape Data"
   ]
  },
  {
   "cell_type": "code",
   "execution_count": 13,
   "metadata": {
    "colab": {
     "base_uri": "https://localhost:8080/",
     "height": 70
    },
    "colab_type": "code",
    "id": "_k-ON2J59-lf",
    "outputId": "cbdba624-8934-48ba-de27-0763e70cbb1f"
   },
   "outputs": [
    {
     "output_type": "stream",
     "name": "stdout",
     "text": "Dictionary:\n num keys:63\n sources:{'https://www.headphones.com/pages/glossary'}\n"
    }
   ],
   "source": [
    "# Scrape from headphones.com\n",
    "url=\"https://www.headphones.com/pages/glossary\"\n",
    "webpage = web_browser(url)\n",
    "soup = s(webpage,'html.parser')\n",
    "# print(soup.get_text())\n",
    "\n",
    "glossary = {}\n",
    "\n",
    "glossary_1 = {}\n",
    "soupGlossary = s(str(soup))\n",
    "for i,p in enumerate(soupGlossary.select(\"div.rte.rte--nomargin p\")):\n",
    "    if len(p.select(\"b\")) != 0: \n",
    "        t = p.find(\"b\").extract()\n",
    "\n",
    "        if (p.text.strip() != ''):\n",
    "            k = t.text.strip().lower()\n",
    "            v = p.text.strip()\n",
    "            updateDict(glossary_1, k, v, url)\n",
    "            updateDict(glossary, k, v, url)\n",
    "\n",
    "getDetailsDict(glossary)"
   ]
  },
  {
   "cell_type": "code",
   "execution_count": 14,
   "metadata": {
    "colab": {
     "base_uri": "https://localhost:8080/",
     "height": 70
    },
    "colab_type": "code",
    "id": "R8EM-C_89uTv",
    "outputId": "a6c300f3-c4cc-4617-f11f-82f5928dc032"
   },
   "outputs": [
    {
     "output_type": "stream",
     "name": "stdout",
     "text": "Dictionary:\n num keys:94\n sources:{'https://www.headphones.com/pages/glossary', 'https://www.crutchfield.com/S-P3Fy2Oh1DMm/learn/headphones-glossary.html'}\n"
    }
   ],
   "source": [
    "# Scrape from https://www.crutchfield.com/S-P3Fy2Oh1DMm/learn/headphones-glossary.html\n",
    "# -- Note: This site has very poorly formatted HTML pages, which makes scrapping very troublesome and difficult\n",
    "from bs4 import BeautifulSoup, NavigableString, Tag\n",
    "\n",
    "url=\"https://www.crutchfield.com/S-P3Fy2Oh1DMm/learn/headphones-glossary.html\"\n",
    "webpage = web_browser(url)\n",
    "soup = s(webpage,'html.parser')\n",
    "# print(soup.get_text())\n",
    "\n",
    "glossary_2 = {}\n",
    "soupGlossary = s(str(soup))\n",
    "for i,p in enumerate(soupGlossary.select(\"div#jump p\")):\n",
    "    bt = p.select(\"span.boldText\")\n",
    "\n",
    "    if len(bt) != 0: \n",
    "        nextSibling = bt[0].nextSibling\n",
    "\n",
    "        # exclude it when the boldText is used for emphasis instead of as a heading.. zz\n",
    "        if not isinstance(nextSibling, NavigableString):       \n",
    "            k = bt[0].text.strip().lower()\n",
    "            bt[0].extract()\n",
    "            v = p.text.strip()\n",
    "\n",
    "            if (len(v) != 0): \n",
    "                updateDict(glossary_2, k, v, url)\n",
    "                updateDict(glossary, k, v, url)\n",
    "\n",
    "getDetailsDict(glossary)"
   ]
  },
  {
   "cell_type": "code",
   "execution_count": 15,
   "metadata": {
    "colab": {
     "base_uri": "https://localhost:8080/",
     "height": 70
    },
    "colab_type": "code",
    "id": "I7DQ4vwJV4DP",
    "outputId": "3570710a-e34b-4564-d959-7021bad387e3"
   },
   "outputs": [
    {
     "output_type": "stream",
     "name": "stdout",
     "text": "Dictionary:\n num keys:116\n sources:{'https://www.headphones.com/pages/glossary', 'https://www.crutchfield.com/S-P3Fy2Oh1DMm/learn/headphones-glossary.html', 'https://krisp.ai/blog/glossary-headphone-terms/'}\n"
    }
   ],
   "source": [
    "# Scrape from https://krisp.ai/blog/glossary-headphone-terms/\n",
    "from bs4 import BeautifulSoup, NavigableString, Tag\n",
    "import re\n",
    "\n",
    "url = \"https://krisp.ai/blog/glossary-headphone-terms/\"\n",
    "webpage = web_browser(url)\n",
    "soup = s(webpage, 'html.parser')\n",
    "\n",
    "glossary_3 = {}\n",
    "soupGlossary = s(str(soup))\n",
    "for i,p in enumerate(soupGlossary.select(\"div.post_content h2\")):\n",
    "    k = re.sub(r'[0-9]*\\)\\s', '', p.text.strip()) # get key - remove numbering prefix\n",
    "    # print(p.text)\n",
    "\n",
    "    # loop through sibling to retrieve description until next h2\n",
    "    nextNode = p\n",
    "    v_arr = []\n",
    "    while True:\n",
    "        nextNode = nextNode.nextSibling\n",
    "        if nextNode is None: break\n",
    "        # if isinstance(nextNode, NavigableString): print(nextNode.strip())\n",
    "        if isinstance(nextNode, Tag):\n",
    "            if nextNode.name == \"h2\": break\n",
    "            v_arr.append(nextNode.get_text(strip=False).strip())\n",
    "  \n",
    "    # print(' '.join(v_arr).strip())\n",
    "    v = ''.join(v_arr).strip()\n",
    "\n",
    "    updateDict(glossary_3, k, v, url)\n",
    "    updateDict(glossary, k, v, url)\n",
    "\n",
    "getDetailsDict(glossary)\n",
    ""
   ]
  },
  {
   "cell_type": "code",
   "execution_count": 12,
   "metadata": {},
   "outputs": [
    {
     "output_type": "display_data",
     "data": {
      "text/plain": "<Figure size 432x288 with 1 Axes>",
      "image/svg+xml": "<?xml version=\"1.0\" encoding=\"utf-8\" standalone=\"no\"?>\r\n<!DOCTYPE svg PUBLIC \"-//W3C//DTD SVG 1.1//EN\"\r\n  \"http://www.w3.org/Graphics/SVG/1.1/DTD/svg11.dtd\">\r\n<!-- Created with matplotlib (https://matplotlib.org/) -->\r\n<svg height=\"246.958125pt\" version=\"1.1\" viewBox=\"0 0 310.279733 246.958125\" width=\"310.279733pt\" xmlns=\"http://www.w3.org/2000/svg\" xmlns:xlink=\"http://www.w3.org/1999/xlink\">\r\n <defs>\r\n  <style type=\"text/css\">\r\n*{stroke-linecap:butt;stroke-linejoin:round;}\r\n  </style>\r\n </defs>\r\n <g id=\"figure_1\">\r\n  <g id=\"patch_1\">\r\n   <path d=\"M 0 246.958125 \r\nL 310.279733 246.958125 \r\nL 310.279733 0 \r\nL 0 0 \r\nz\r\n\" style=\"fill:none;\"/>\r\n  </g>\r\n  <g id=\"axes_1\">\r\n   <g id=\"patch_2\">\r\n    <path clip-path=\"url(#pac798b8623)\" d=\"M 174.858913 72.319819 \r\nC 168.1759 61.314744 158.556586 52.386643 147.084612 46.54129 \r\nC 135.612638 40.695937 122.735593 38.161393 109.90411 39.223182 \r\nC 97.072627 40.284972 84.787339 44.901667 74.432214 52.553185 \r\nC 64.077089 60.204704 56.056143 70.592514 51.272955 82.546403 \r\nC 46.489767 94.500292 45.130959 107.553868 47.349604 120.236611 \r\nC 49.568248 132.919353 55.277783 144.736434 63.835014 154.356629 \r\nC 72.392245 163.976824 83.463304 171.024791 95.801008 174.706559 \r\nC 108.138711 178.388328 121.261692 178.560249 133.691613 175.202957 \r\nC 134.042548 165.567392 137.400957 156.279166 143.29352 148.647326 \r\nC 149.186083 141.015487 157.322329 135.416241 166.555567 132.638725 \r\nC 161.483799 122.974048 159.556778 111.961872 161.04522 101.149223 \r\nC 162.533661 90.336575 167.36444 80.25466 174.858913 72.319819 \r\n\" style=\"fill:#ff0000;opacity:0.4;\"/>\r\n   </g>\r\n   <g id=\"patch_3\">\r\n    <path clip-path=\"url(#pac798b8623)\" d=\"M 174.858913 72.319819 \r\nC 180.125607 80.992608 183.424032 90.717103 184.520511 100.804375 \r\nC 185.616991 110.891647 184.485006 121.097725 181.204751 130.699561 \r\nC 190.211601 130.960738 198.948328 133.851023 206.333958 139.012808 \r\nC 213.719589 144.174593 219.436417 151.385835 222.777114 159.754306 \r\nC 230.890886 158.204351 238.524226 154.757199 245.051973 149.695166 \r\nC 251.57972 144.633133 256.818667 138.09829 260.339751 130.625833 \r\nC 263.860835 123.153376 265.565234 114.953024 265.31336 106.696378 \r\nC 265.061486 98.439731 262.860407 90.358519 258.89039 83.114582 \r\nC 254.920373 75.870646 249.292839 69.667292 242.468676 65.012567 \r\nC 235.644514 60.357843 227.815248 57.382387 219.622086 56.329886 \r\nC 211.428925 55.277385 203.101815 56.177377 195.322738 58.956156 \r\nC 187.543661 61.734934 180.530941 66.314509 174.858913 72.319819 \r\n\" style=\"fill:#008000;opacity:0.4;\"/>\r\n   </g>\r\n   <g id=\"patch_4\">\r\n    <path clip-path=\"url(#pac798b8623)\" d=\"M 174.858913 72.319819 \r\nC 167.36444 80.25466 162.533661 90.336575 161.04522 101.149223 \r\nC 159.556778 111.961872 161.483799 122.974048 166.555567 132.638725 \r\nC 168.925439 131.925827 171.348761 131.404481 173.802135 131.079719 \r\nC 176.255509 130.754957 178.731015 130.627828 181.204751 130.699561 \r\nC 184.485006 121.097725 185.616991 110.891647 184.520511 100.804375 \r\nC 183.424032 90.717103 180.125607 80.992608 174.858913 72.319819 \r\n\" style=\"fill:#b25900;opacity:0.4;\"/>\r\n   </g>\r\n   <g id=\"patch_5\">\r\n    <path clip-path=\"url(#pac798b8623)\" d=\"M 133.691613 175.202957 \r\nC 133.441293 182.075957 134.728676 188.91892 137.459547 195.231061 \r\nC 140.190418 201.543203 144.296495 207.166692 149.477284 211.689989 \r\nC 154.658072 216.213286 160.784032 219.523288 167.40685 221.377763 \r\nC 174.029667 223.232237 180.983744 223.584813 187.760164 222.409688 \r\nC 194.536584 221.234564 200.965909 218.561122 206.577622 214.585012 \r\nC 212.189336 210.608902 216.843124 205.429543 220.198409 199.425973 \r\nC 223.553695 193.422404 225.526582 186.744738 225.97269 179.881665 \r\nC 226.418797 173.018592 225.326971 166.141716 222.777114 159.754306 \r\nC 214.132568 161.405653 205.209686 160.852462 196.835311 158.145994 \r\nC 188.460936 155.439527 180.901985 150.666046 174.858913 144.26789 \r\nC 170.280988 151.806468 164.305861 158.402363 157.254982 163.700728 \r\nC 150.204103 168.999094 142.206224 172.903181 133.691613 175.202957 \r\n\" style=\"fill:#0000ff;opacity:0.4;\"/>\r\n   </g>\r\n   <g id=\"patch_6\">\r\n    <path clip-path=\"url(#pac798b8623)\" d=\"M 133.691613 175.202957 \r\nC 142.206224 172.903181 150.204103 168.999094 157.254982 163.700728 \r\nC 164.305861 158.402363 170.280988 151.806468 174.858913 144.26789 \r\nC 173.217886 142.530437 171.697666 140.682731 170.308908 138.737721 \r\nC 168.920151 136.792711 167.666107 134.754952 166.555567 132.638725 \r\nC 157.322329 135.416241 149.186083 141.015487 143.29352 148.647326 \r\nC 137.400957 156.279166 134.042548 165.567392 133.691613 175.202957 \r\n\" style=\"fill:#b200b2;opacity:0.4;\"/>\r\n   </g>\r\n   <g id=\"patch_7\">\r\n    <path clip-path=\"url(#pac798b8623)\" d=\"M 181.204751 130.699561 \r\nC 180.395901 133.067198 179.459434 135.3893 178.399467 137.655666 \r\nC 177.339499 139.922032 176.157584 142.129339 174.858913 144.26789 \r\nC 180.901985 150.666046 188.460936 155.439527 196.835311 158.145994 \r\nC 205.209686 160.852462 214.132568 161.405653 222.777114 159.754306 \r\nC 219.436417 151.385835 213.719589 144.174593 206.333958 139.012808 \r\nC 198.948328 133.851023 190.211601 130.960738 181.204751 130.699561 \r\n\" style=\"fill:#0059b2;opacity:0.4;\"/>\r\n   </g>\r\n   <g id=\"patch_8\">\r\n    <path clip-path=\"url(#pac798b8623)\" d=\"M 166.555567 132.638725 \r\nC 167.666107 134.754952 168.920151 136.792711 170.308908 138.737721 \r\nC 171.697666 140.682731 173.217886 142.530437 174.858913 144.26789 \r\nC 176.157584 142.129339 177.339499 139.922032 178.399467 137.655666 \r\nC 179.459434 135.3893 180.395901 133.067198 181.204751 130.699561 \r\nC 178.731015 130.627828 176.255509 130.754957 173.802135 131.079719 \r\nC 171.348761 131.404481 168.925439 131.925827 166.555567 132.638725 \r\n\" style=\"fill:#663366;opacity:0.4;\"/>\r\n   </g>\r\n   <g id=\"text_1\">\r\n    <!-- 56 -->\r\n    <defs>\r\n     <path d=\"M 10.796875 72.90625 \r\nL 49.515625 72.90625 \r\nL 49.515625 64.59375 \r\nL 19.828125 64.59375 \r\nL 19.828125 46.734375 \r\nQ 21.96875 47.46875 24.109375 47.828125 \r\nQ 26.265625 48.1875 28.421875 48.1875 \r\nQ 40.625 48.1875 47.75 41.5 \r\nQ 54.890625 34.8125 54.890625 23.390625 \r\nQ 54.890625 11.625 47.5625 5.09375 \r\nQ 40.234375 -1.421875 26.90625 -1.421875 \r\nQ 22.3125 -1.421875 17.546875 -0.640625 \r\nQ 12.796875 0.140625 7.71875 1.703125 \r\nL 7.71875 11.625 \r\nQ 12.109375 9.234375 16.796875 8.0625 \r\nQ 21.484375 6.890625 26.703125 6.890625 \r\nQ 35.15625 6.890625 40.078125 11.328125 \r\nQ 45.015625 15.765625 45.015625 23.390625 \r\nQ 45.015625 31 40.078125 35.4375 \r\nQ 35.15625 39.890625 26.703125 39.890625 \r\nQ 22.75 39.890625 18.8125 39.015625 \r\nQ 14.890625 38.140625 10.796875 36.28125 \r\nz\r\n\" id=\"DejaVuSans-53\"/>\r\n     <path d=\"M 33.015625 40.375 \r\nQ 26.375 40.375 22.484375 35.828125 \r\nQ 18.609375 31.296875 18.609375 23.390625 \r\nQ 18.609375 15.53125 22.484375 10.953125 \r\nQ 26.375 6.390625 33.015625 6.390625 \r\nQ 39.65625 6.390625 43.53125 10.953125 \r\nQ 47.40625 15.53125 47.40625 23.390625 \r\nQ 47.40625 31.296875 43.53125 35.828125 \r\nQ 39.65625 40.375 33.015625 40.375 \r\nz\r\nM 52.59375 71.296875 \r\nL 52.59375 62.3125 \r\nQ 48.875 64.0625 45.09375 64.984375 \r\nQ 41.3125 65.921875 37.59375 65.921875 \r\nQ 27.828125 65.921875 22.671875 59.328125 \r\nQ 17.53125 52.734375 16.796875 39.40625 \r\nQ 19.671875 43.65625 24.015625 45.921875 \r\nQ 28.375 48.1875 33.59375 48.1875 \r\nQ 44.578125 48.1875 50.953125 41.515625 \r\nQ 57.328125 34.859375 57.328125 23.390625 \r\nQ 57.328125 12.15625 50.6875 5.359375 \r\nQ 44.046875 -1.421875 33.015625 -1.421875 \r\nQ 20.359375 -1.421875 13.671875 8.265625 \r\nQ 6.984375 17.96875 6.984375 36.375 \r\nQ 6.984375 53.65625 15.1875 63.9375 \r\nQ 23.390625 74.21875 37.203125 74.21875 \r\nQ 40.921875 74.21875 44.703125 73.484375 \r\nQ 48.484375 72.75 52.59375 71.296875 \r\nz\r\n\" id=\"DejaVuSans-54\"/>\r\n    </defs>\r\n    <g transform=\"translate(81.138929 100.521048)scale(0.1 -0.1)\">\r\n     <use xlink:href=\"#DejaVuSans-53\"/>\r\n     <use x=\"63.623047\" xlink:href=\"#DejaVuSans-54\"/>\r\n    </g>\r\n   </g>\r\n   <g id=\"text_2\">\r\n    <!-- 29 -->\r\n    <defs>\r\n     <path d=\"M 19.1875 8.296875 \r\nL 53.609375 8.296875 \r\nL 53.609375 0 \r\nL 7.328125 0 \r\nL 7.328125 8.296875 \r\nQ 12.9375 14.109375 22.625 23.890625 \r\nQ 32.328125 33.6875 34.8125 36.53125 \r\nQ 39.546875 41.84375 41.421875 45.53125 \r\nQ 43.3125 49.21875 43.3125 52.78125 \r\nQ 43.3125 58.59375 39.234375 62.25 \r\nQ 35.15625 65.921875 28.609375 65.921875 \r\nQ 23.96875 65.921875 18.8125 64.3125 \r\nQ 13.671875 62.703125 7.8125 59.421875 \r\nL 7.8125 69.390625 \r\nQ 13.765625 71.78125 18.9375 73 \r\nQ 24.125 74.21875 28.421875 74.21875 \r\nQ 39.75 74.21875 46.484375 68.546875 \r\nQ 53.21875 62.890625 53.21875 53.421875 \r\nQ 53.21875 48.921875 51.53125 44.890625 \r\nQ 49.859375 40.875 45.40625 35.40625 \r\nQ 44.1875 33.984375 37.640625 27.21875 \r\nQ 31.109375 20.453125 19.1875 8.296875 \r\nz\r\n\" id=\"DejaVuSans-50\"/>\r\n     <path d=\"M 10.984375 1.515625 \r\nL 10.984375 10.5 \r\nQ 14.703125 8.734375 18.5 7.8125 \r\nQ 22.3125 6.890625 25.984375 6.890625 \r\nQ 35.75 6.890625 40.890625 13.453125 \r\nQ 46.046875 20.015625 46.78125 33.40625 \r\nQ 43.953125 29.203125 39.59375 26.953125 \r\nQ 35.25 24.703125 29.984375 24.703125 \r\nQ 19.046875 24.703125 12.671875 31.3125 \r\nQ 6.296875 37.9375 6.296875 49.421875 \r\nQ 6.296875 60.640625 12.9375 67.421875 \r\nQ 19.578125 74.21875 30.609375 74.21875 \r\nQ 43.265625 74.21875 49.921875 64.515625 \r\nQ 56.59375 54.828125 56.59375 36.375 \r\nQ 56.59375 19.140625 48.40625 8.859375 \r\nQ 40.234375 -1.421875 26.421875 -1.421875 \r\nQ 22.703125 -1.421875 18.890625 -0.6875 \r\nQ 15.09375 0.046875 10.984375 1.515625 \r\nz\r\nM 30.609375 32.421875 \r\nQ 37.25 32.421875 41.125 36.953125 \r\nQ 45.015625 41.5 45.015625 49.421875 \r\nQ 45.015625 57.28125 41.125 61.84375 \r\nQ 37.25 66.40625 30.609375 66.40625 \r\nQ 23.96875 66.40625 20.09375 61.84375 \r\nQ 16.21875 57.28125 16.21875 49.421875 \r\nQ 16.21875 41.5 20.09375 36.953125 \r\nQ 23.96875 32.421875 30.609375 32.421875 \r\nz\r\n\" id=\"DejaVuSans-57\"/>\r\n    </defs>\r\n    <g transform=\"translate(230.793593 99.732476)scale(0.1 -0.1)\">\r\n     <use xlink:href=\"#DejaVuSans-50\"/>\r\n     <use x=\"63.623047\" xlink:href=\"#DejaVuSans-57\"/>\r\n    </g>\r\n   </g>\r\n   <g id=\"text_3\">\r\n    <!-- 3 -->\r\n    <defs>\r\n     <path d=\"M 40.578125 39.3125 \r\nQ 47.65625 37.796875 51.625 33 \r\nQ 55.609375 28.21875 55.609375 21.1875 \r\nQ 55.609375 10.40625 48.1875 4.484375 \r\nQ 40.765625 -1.421875 27.09375 -1.421875 \r\nQ 22.515625 -1.421875 17.65625 -0.515625 \r\nQ 12.796875 0.390625 7.625 2.203125 \r\nL 7.625 11.71875 \r\nQ 11.71875 9.328125 16.59375 8.109375 \r\nQ 21.484375 6.890625 26.8125 6.890625 \r\nQ 36.078125 6.890625 40.9375 10.546875 \r\nQ 45.796875 14.203125 45.796875 21.1875 \r\nQ 45.796875 27.640625 41.28125 31.265625 \r\nQ 36.765625 34.90625 28.71875 34.90625 \r\nL 20.21875 34.90625 \r\nL 20.21875 43.015625 \r\nL 29.109375 43.015625 \r\nQ 36.375 43.015625 40.234375 45.921875 \r\nQ 44.09375 48.828125 44.09375 54.296875 \r\nQ 44.09375 59.90625 40.109375 62.90625 \r\nQ 36.140625 65.921875 28.71875 65.921875 \r\nQ 24.65625 65.921875 20.015625 65.03125 \r\nQ 15.375 64.15625 9.8125 62.3125 \r\nL 9.8125 71.09375 \r\nQ 15.4375 72.65625 20.34375 73.4375 \r\nQ 25.25 74.21875 29.59375 74.21875 \r\nQ 40.828125 74.21875 47.359375 69.109375 \r\nQ 53.90625 64.015625 53.90625 55.328125 \r\nQ 53.90625 49.265625 50.4375 45.09375 \r\nQ 46.96875 40.921875 40.578125 39.3125 \r\nz\r\n\" id=\"DejaVuSans-51\"/>\r\n    </defs>\r\n    <g transform=\"translate(167.976546 107.730759)scale(0.1 -0.1)\">\r\n     <use xlink:href=\"#DejaVuSans-51\"/>\r\n    </g>\r\n   </g>\r\n   <g id=\"text_4\">\r\n    <!-- 22 -->\r\n    <g transform=\"translate(178.743931 204.662955)scale(0.1 -0.1)\">\r\n     <use xlink:href=\"#DejaVuSans-50\"/>\r\n     <use x=\"63.623047\" xlink:href=\"#DejaVuSans-50\"/>\r\n    </g>\r\n   </g>\r\n   <g id=\"text_5\">\r\n    <!-- 2 -->\r\n    <g transform=\"translate(148.025837 155.248616)scale(0.1 -0.1)\">\r\n     <use xlink:href=\"#DejaVuSans-50\"/>\r\n    </g>\r\n   </g>\r\n   <g id=\"text_6\">\r\n    <!-- 2 -->\r\n    <g transform=\"translate(196.612658 149.705362)scale(0.1 -0.1)\">\r\n     <use xlink:href=\"#DejaVuSans-50\"/>\r\n    </g>\r\n   </g>\r\n   <g id=\"text_7\">\r\n    <!-- 2 -->\r\n    <g transform=\"translate(170.669957 138.176618)scale(0.1 -0.1)\">\r\n     <use xlink:href=\"#DejaVuSans-50\"/>\r\n    </g>\r\n   </g>\r\n   <g id=\"text_8\">\r\n    <!-- headphones -->\r\n    <defs>\r\n     <path d=\"M 54.890625 33.015625 \r\nL 54.890625 0 \r\nL 45.90625 0 \r\nL 45.90625 32.71875 \r\nQ 45.90625 40.484375 42.875 44.328125 \r\nQ 39.84375 48.1875 33.796875 48.1875 \r\nQ 26.515625 48.1875 22.3125 43.546875 \r\nQ 18.109375 38.921875 18.109375 30.90625 \r\nL 18.109375 0 \r\nL 9.078125 0 \r\nL 9.078125 75.984375 \r\nL 18.109375 75.984375 \r\nL 18.109375 46.1875 \r\nQ 21.34375 51.125 25.703125 53.5625 \r\nQ 30.078125 56 35.796875 56 \r\nQ 45.21875 56 50.046875 50.171875 \r\nQ 54.890625 44.34375 54.890625 33.015625 \r\nz\r\n\" id=\"DejaVuSans-104\"/>\r\n     <path d=\"M 56.203125 29.59375 \r\nL 56.203125 25.203125 \r\nL 14.890625 25.203125 \r\nQ 15.484375 15.921875 20.484375 11.0625 \r\nQ 25.484375 6.203125 34.421875 6.203125 \r\nQ 39.59375 6.203125 44.453125 7.46875 \r\nQ 49.3125 8.734375 54.109375 11.28125 \r\nL 54.109375 2.78125 \r\nQ 49.265625 0.734375 44.1875 -0.34375 \r\nQ 39.109375 -1.421875 33.890625 -1.421875 \r\nQ 20.796875 -1.421875 13.15625 6.1875 \r\nQ 5.515625 13.8125 5.515625 26.8125 \r\nQ 5.515625 40.234375 12.765625 48.109375 \r\nQ 20.015625 56 32.328125 56 \r\nQ 43.359375 56 49.78125 48.890625 \r\nQ 56.203125 41.796875 56.203125 29.59375 \r\nz\r\nM 47.21875 32.234375 \r\nQ 47.125 39.59375 43.09375 43.984375 \r\nQ 39.0625 48.390625 32.421875 48.390625 \r\nQ 24.90625 48.390625 20.390625 44.140625 \r\nQ 15.875 39.890625 15.1875 32.171875 \r\nz\r\n\" id=\"DejaVuSans-101\"/>\r\n     <path d=\"M 34.28125 27.484375 \r\nQ 23.390625 27.484375 19.1875 25 \r\nQ 14.984375 22.515625 14.984375 16.5 \r\nQ 14.984375 11.71875 18.140625 8.90625 \r\nQ 21.296875 6.109375 26.703125 6.109375 \r\nQ 34.1875 6.109375 38.703125 11.40625 \r\nQ 43.21875 16.703125 43.21875 25.484375 \r\nL 43.21875 27.484375 \r\nz\r\nM 52.203125 31.203125 \r\nL 52.203125 0 \r\nL 43.21875 0 \r\nL 43.21875 8.296875 \r\nQ 40.140625 3.328125 35.546875 0.953125 \r\nQ 30.953125 -1.421875 24.3125 -1.421875 \r\nQ 15.921875 -1.421875 10.953125 3.296875 \r\nQ 6 8.015625 6 15.921875 \r\nQ 6 25.140625 12.171875 29.828125 \r\nQ 18.359375 34.515625 30.609375 34.515625 \r\nL 43.21875 34.515625 \r\nL 43.21875 35.40625 \r\nQ 43.21875 41.609375 39.140625 45 \r\nQ 35.0625 48.390625 27.6875 48.390625 \r\nQ 23 48.390625 18.546875 47.265625 \r\nQ 14.109375 46.140625 10.015625 43.890625 \r\nL 10.015625 52.203125 \r\nQ 14.9375 54.109375 19.578125 55.046875 \r\nQ 24.21875 56 28.609375 56 \r\nQ 40.484375 56 46.34375 49.84375 \r\nQ 52.203125 43.703125 52.203125 31.203125 \r\nz\r\n\" id=\"DejaVuSans-97\"/>\r\n     <path d=\"M 45.40625 46.390625 \r\nL 45.40625 75.984375 \r\nL 54.390625 75.984375 \r\nL 54.390625 0 \r\nL 45.40625 0 \r\nL 45.40625 8.203125 \r\nQ 42.578125 3.328125 38.25 0.953125 \r\nQ 33.9375 -1.421875 27.875 -1.421875 \r\nQ 17.96875 -1.421875 11.734375 6.484375 \r\nQ 5.515625 14.40625 5.515625 27.296875 \r\nQ 5.515625 40.1875 11.734375 48.09375 \r\nQ 17.96875 56 27.875 56 \r\nQ 33.9375 56 38.25 53.625 \r\nQ 42.578125 51.265625 45.40625 46.390625 \r\nz\r\nM 14.796875 27.296875 \r\nQ 14.796875 17.390625 18.875 11.75 \r\nQ 22.953125 6.109375 30.078125 6.109375 \r\nQ 37.203125 6.109375 41.296875 11.75 \r\nQ 45.40625 17.390625 45.40625 27.296875 \r\nQ 45.40625 37.203125 41.296875 42.84375 \r\nQ 37.203125 48.484375 30.078125 48.484375 \r\nQ 22.953125 48.484375 18.875 42.84375 \r\nQ 14.796875 37.203125 14.796875 27.296875 \r\nz\r\n\" id=\"DejaVuSans-100\"/>\r\n     <path d=\"M 18.109375 8.203125 \r\nL 18.109375 -20.796875 \r\nL 9.078125 -20.796875 \r\nL 9.078125 54.6875 \r\nL 18.109375 54.6875 \r\nL 18.109375 46.390625 \r\nQ 20.953125 51.265625 25.265625 53.625 \r\nQ 29.59375 56 35.59375 56 \r\nQ 45.5625 56 51.78125 48.09375 \r\nQ 58.015625 40.1875 58.015625 27.296875 \r\nQ 58.015625 14.40625 51.78125 6.484375 \r\nQ 45.5625 -1.421875 35.59375 -1.421875 \r\nQ 29.59375 -1.421875 25.265625 0.953125 \r\nQ 20.953125 3.328125 18.109375 8.203125 \r\nz\r\nM 48.6875 27.296875 \r\nQ 48.6875 37.203125 44.609375 42.84375 \r\nQ 40.53125 48.484375 33.40625 48.484375 \r\nQ 26.265625 48.484375 22.1875 42.84375 \r\nQ 18.109375 37.203125 18.109375 27.296875 \r\nQ 18.109375 17.390625 22.1875 11.75 \r\nQ 26.265625 6.109375 33.40625 6.109375 \r\nQ 40.53125 6.109375 44.609375 11.75 \r\nQ 48.6875 17.390625 48.6875 27.296875 \r\nz\r\n\" id=\"DejaVuSans-112\"/>\r\n     <path d=\"M 30.609375 48.390625 \r\nQ 23.390625 48.390625 19.1875 42.75 \r\nQ 14.984375 37.109375 14.984375 27.296875 \r\nQ 14.984375 17.484375 19.15625 11.84375 \r\nQ 23.34375 6.203125 30.609375 6.203125 \r\nQ 37.796875 6.203125 41.984375 11.859375 \r\nQ 46.1875 17.53125 46.1875 27.296875 \r\nQ 46.1875 37.015625 41.984375 42.703125 \r\nQ 37.796875 48.390625 30.609375 48.390625 \r\nz\r\nM 30.609375 56 \r\nQ 42.328125 56 49.015625 48.375 \r\nQ 55.71875 40.765625 55.71875 27.296875 \r\nQ 55.71875 13.875 49.015625 6.21875 \r\nQ 42.328125 -1.421875 30.609375 -1.421875 \r\nQ 18.84375 -1.421875 12.171875 6.21875 \r\nQ 5.515625 13.875 5.515625 27.296875 \r\nQ 5.515625 40.765625 12.171875 48.375 \r\nQ 18.84375 56 30.609375 56 \r\nz\r\n\" id=\"DejaVuSans-111\"/>\r\n     <path d=\"M 54.890625 33.015625 \r\nL 54.890625 0 \r\nL 45.90625 0 \r\nL 45.90625 32.71875 \r\nQ 45.90625 40.484375 42.875 44.328125 \r\nQ 39.84375 48.1875 33.796875 48.1875 \r\nQ 26.515625 48.1875 22.3125 43.546875 \r\nQ 18.109375 38.921875 18.109375 30.90625 \r\nL 18.109375 0 \r\nL 9.078125 0 \r\nL 9.078125 54.6875 \r\nL 18.109375 54.6875 \r\nL 18.109375 46.1875 \r\nQ 21.34375 51.125 25.703125 53.5625 \r\nQ 30.078125 56 35.796875 56 \r\nQ 45.21875 56 50.046875 50.171875 \r\nQ 54.890625 44.34375 54.890625 33.015625 \r\nz\r\n\" id=\"DejaVuSans-110\"/>\r\n     <path d=\"M 44.28125 53.078125 \r\nL 44.28125 44.578125 \r\nQ 40.484375 46.53125 36.375 47.5 \r\nQ 32.28125 48.484375 27.875 48.484375 \r\nQ 21.1875 48.484375 17.84375 46.4375 \r\nQ 14.5 44.390625 14.5 40.28125 \r\nQ 14.5 37.15625 16.890625 35.375 \r\nQ 19.28125 33.59375 26.515625 31.984375 \r\nL 29.59375 31.296875 \r\nQ 39.15625 29.25 43.1875 25.515625 \r\nQ 47.21875 21.78125 47.21875 15.09375 \r\nQ 47.21875 7.46875 41.1875 3.015625 \r\nQ 35.15625 -1.421875 24.609375 -1.421875 \r\nQ 20.21875 -1.421875 15.453125 -0.5625 \r\nQ 10.6875 0.296875 5.421875 2 \r\nL 5.421875 11.28125 \r\nQ 10.40625 8.6875 15.234375 7.390625 \r\nQ 20.0625 6.109375 24.8125 6.109375 \r\nQ 31.15625 6.109375 34.5625 8.28125 \r\nQ 37.984375 10.453125 37.984375 14.40625 \r\nQ 37.984375 18.0625 35.515625 20.015625 \r\nQ 33.0625 21.96875 24.703125 23.78125 \r\nL 21.578125 24.515625 \r\nQ 13.234375 26.265625 9.515625 29.90625 \r\nQ 5.8125 33.546875 5.8125 39.890625 \r\nQ 5.8125 47.609375 11.28125 51.796875 \r\nQ 16.75 56 26.8125 56 \r\nQ 31.78125 56 36.171875 55.265625 \r\nQ 40.578125 54.546875 44.28125 53.078125 \r\nz\r\n\" id=\"DejaVuSans-115\"/>\r\n    </defs>\r\n    <g transform=\"translate(7.2 38.98711)scale(0.12 -0.12)\">\r\n     <use xlink:href=\"#DejaVuSans-104\"/>\r\n     <use x=\"63.378906\" xlink:href=\"#DejaVuSans-101\"/>\r\n     <use x=\"124.902344\" xlink:href=\"#DejaVuSans-97\"/>\r\n     <use x=\"186.181641\" xlink:href=\"#DejaVuSans-100\"/>\r\n     <use x=\"249.658203\" xlink:href=\"#DejaVuSans-112\"/>\r\n     <use x=\"313.134766\" xlink:href=\"#DejaVuSans-104\"/>\r\n     <use x=\"376.513672\" xlink:href=\"#DejaVuSans-111\"/>\r\n     <use x=\"437.695312\" xlink:href=\"#DejaVuSans-110\"/>\r\n     <use x=\"501.074219\" xlink:href=\"#DejaVuSans-101\"/>\r\n     <use x=\"562.597656\" xlink:href=\"#DejaVuSans-115\"/>\r\n    </g>\r\n   </g>\r\n   <g id=\"text_9\">\r\n    <!-- crutchfield -->\r\n    <defs>\r\n     <path d=\"M 48.78125 52.59375 \r\nL 48.78125 44.1875 \r\nQ 44.96875 46.296875 41.140625 47.34375 \r\nQ 37.3125 48.390625 33.40625 48.390625 \r\nQ 24.65625 48.390625 19.8125 42.84375 \r\nQ 14.984375 37.3125 14.984375 27.296875 \r\nQ 14.984375 17.28125 19.8125 11.734375 \r\nQ 24.65625 6.203125 33.40625 6.203125 \r\nQ 37.3125 6.203125 41.140625 7.25 \r\nQ 44.96875 8.296875 48.78125 10.40625 \r\nL 48.78125 2.09375 \r\nQ 45.015625 0.34375 40.984375 -0.53125 \r\nQ 36.96875 -1.421875 32.421875 -1.421875 \r\nQ 20.0625 -1.421875 12.78125 6.34375 \r\nQ 5.515625 14.109375 5.515625 27.296875 \r\nQ 5.515625 40.671875 12.859375 48.328125 \r\nQ 20.21875 56 33.015625 56 \r\nQ 37.15625 56 41.109375 55.140625 \r\nQ 45.0625 54.296875 48.78125 52.59375 \r\nz\r\n\" id=\"DejaVuSans-99\"/>\r\n     <path d=\"M 41.109375 46.296875 \r\nQ 39.59375 47.171875 37.8125 47.578125 \r\nQ 36.03125 48 33.890625 48 \r\nQ 26.265625 48 22.1875 43.046875 \r\nQ 18.109375 38.09375 18.109375 28.8125 \r\nL 18.109375 0 \r\nL 9.078125 0 \r\nL 9.078125 54.6875 \r\nL 18.109375 54.6875 \r\nL 18.109375 46.1875 \r\nQ 20.953125 51.171875 25.484375 53.578125 \r\nQ 30.03125 56 36.53125 56 \r\nQ 37.453125 56 38.578125 55.875 \r\nQ 39.703125 55.765625 41.0625 55.515625 \r\nz\r\n\" id=\"DejaVuSans-114\"/>\r\n     <path d=\"M 8.5 21.578125 \r\nL 8.5 54.6875 \r\nL 17.484375 54.6875 \r\nL 17.484375 21.921875 \r\nQ 17.484375 14.15625 20.5 10.265625 \r\nQ 23.53125 6.390625 29.59375 6.390625 \r\nQ 36.859375 6.390625 41.078125 11.03125 \r\nQ 45.3125 15.671875 45.3125 23.6875 \r\nL 45.3125 54.6875 \r\nL 54.296875 54.6875 \r\nL 54.296875 0 \r\nL 45.3125 0 \r\nL 45.3125 8.40625 \r\nQ 42.046875 3.421875 37.71875 1 \r\nQ 33.40625 -1.421875 27.6875 -1.421875 \r\nQ 18.265625 -1.421875 13.375 4.4375 \r\nQ 8.5 10.296875 8.5 21.578125 \r\nz\r\nM 31.109375 56 \r\nz\r\n\" id=\"DejaVuSans-117\"/>\r\n     <path d=\"M 18.3125 70.21875 \r\nL 18.3125 54.6875 \r\nL 36.8125 54.6875 \r\nL 36.8125 47.703125 \r\nL 18.3125 47.703125 \r\nL 18.3125 18.015625 \r\nQ 18.3125 11.328125 20.140625 9.421875 \r\nQ 21.96875 7.515625 27.59375 7.515625 \r\nL 36.8125 7.515625 \r\nL 36.8125 0 \r\nL 27.59375 0 \r\nQ 17.1875 0 13.234375 3.875 \r\nQ 9.28125 7.765625 9.28125 18.015625 \r\nL 9.28125 47.703125 \r\nL 2.6875 47.703125 \r\nL 2.6875 54.6875 \r\nL 9.28125 54.6875 \r\nL 9.28125 70.21875 \r\nz\r\n\" id=\"DejaVuSans-116\"/>\r\n     <path d=\"M 37.109375 75.984375 \r\nL 37.109375 68.5 \r\nL 28.515625 68.5 \r\nQ 23.6875 68.5 21.796875 66.546875 \r\nQ 19.921875 64.59375 19.921875 59.515625 \r\nL 19.921875 54.6875 \r\nL 34.71875 54.6875 \r\nL 34.71875 47.703125 \r\nL 19.921875 47.703125 \r\nL 19.921875 0 \r\nL 10.890625 0 \r\nL 10.890625 47.703125 \r\nL 2.296875 47.703125 \r\nL 2.296875 54.6875 \r\nL 10.890625 54.6875 \r\nL 10.890625 58.5 \r\nQ 10.890625 67.625 15.140625 71.796875 \r\nQ 19.390625 75.984375 28.609375 75.984375 \r\nz\r\n\" id=\"DejaVuSans-102\"/>\r\n     <path d=\"M 9.421875 54.6875 \r\nL 18.40625 54.6875 \r\nL 18.40625 0 \r\nL 9.421875 0 \r\nz\r\nM 9.421875 75.984375 \r\nL 18.40625 75.984375 \r\nL 18.40625 64.59375 \r\nL 9.421875 64.59375 \r\nz\r\n\" id=\"DejaVuSans-105\"/>\r\n     <path d=\"M 9.421875 75.984375 \r\nL 18.40625 75.984375 \r\nL 18.40625 0 \r\nL 9.421875 0 \r\nz\r\n\" id=\"DejaVuSans-108\"/>\r\n    </defs>\r\n    <g transform=\"translate(239.142233 55.90288)scale(0.12 -0.12)\">\r\n     <use xlink:href=\"#DejaVuSans-99\"/>\r\n     <use x=\"54.980469\" xlink:href=\"#DejaVuSans-114\"/>\r\n     <use x=\"96.09375\" xlink:href=\"#DejaVuSans-117\"/>\r\n     <use x=\"159.472656\" xlink:href=\"#DejaVuSans-116\"/>\r\n     <use x=\"198.681641\" xlink:href=\"#DejaVuSans-99\"/>\r\n     <use x=\"253.662109\" xlink:href=\"#DejaVuSans-104\"/>\r\n     <use x=\"317.041016\" xlink:href=\"#DejaVuSans-102\"/>\r\n     <use x=\"352.246094\" xlink:href=\"#DejaVuSans-105\"/>\r\n     <use x=\"380.029297\" xlink:href=\"#DejaVuSans-101\"/>\r\n     <use x=\"441.552734\" xlink:href=\"#DejaVuSans-108\"/>\r\n     <use x=\"469.335938\" xlink:href=\"#DejaVuSans-100\"/>\r\n    </g>\r\n   </g>\r\n   <g id=\"text_10\">\r\n    <!-- krisp.ai -->\r\n    <defs>\r\n     <path d=\"M 9.078125 75.984375 \r\nL 18.109375 75.984375 \r\nL 18.109375 31.109375 \r\nL 44.921875 54.6875 \r\nL 56.390625 54.6875 \r\nL 27.390625 29.109375 \r\nL 57.625 0 \r\nL 45.90625 0 \r\nL 18.109375 26.703125 \r\nL 18.109375 0 \r\nL 9.078125 0 \r\nz\r\n\" id=\"DejaVuSans-107\"/>\r\n     <path d=\"M 10.6875 12.40625 \r\nL 21 12.40625 \r\nL 21 0 \r\nL 10.6875 0 \r\nz\r\n\" id=\"DejaVuSans-46\"/>\r\n    </defs>\r\n    <g transform=\"translate(158.072371 236.827715)scale(0.12 -0.12)\">\r\n     <use xlink:href=\"#DejaVuSans-107\"/>\r\n     <use x=\"57.910156\" xlink:href=\"#DejaVuSans-114\"/>\r\n     <use x=\"99.023438\" xlink:href=\"#DejaVuSans-105\"/>\r\n     <use x=\"126.806641\" xlink:href=\"#DejaVuSans-115\"/>\r\n     <use x=\"178.90625\" xlink:href=\"#DejaVuSans-112\"/>\r\n     <use x=\"242.382812\" xlink:href=\"#DejaVuSans-46\"/>\r\n     <use x=\"274.169922\" xlink:href=\"#DejaVuSans-97\"/>\r\n     <use x=\"335.449219\" xlink:href=\"#DejaVuSans-105\"/>\r\n    </g>\r\n   </g>\r\n   <g id=\"text_11\">\r\n    <!-- Glossary terms -->\r\n    <defs>\r\n     <path d=\"M 59.515625 10.40625 \r\nL 59.515625 29.984375 \r\nL 43.40625 29.984375 \r\nL 43.40625 38.09375 \r\nL 69.28125 38.09375 \r\nL 69.28125 6.78125 \r\nQ 63.578125 2.734375 56.6875 0.65625 \r\nQ 49.8125 -1.421875 42 -1.421875 \r\nQ 24.90625 -1.421875 15.25 8.5625 \r\nQ 5.609375 18.5625 5.609375 36.375 \r\nQ 5.609375 54.25 15.25 64.234375 \r\nQ 24.90625 74.21875 42 74.21875 \r\nQ 49.125 74.21875 55.546875 72.453125 \r\nQ 61.96875 70.703125 67.390625 67.28125 \r\nL 67.390625 56.78125 \r\nQ 61.921875 61.421875 55.765625 63.765625 \r\nQ 49.609375 66.109375 42.828125 66.109375 \r\nQ 29.4375 66.109375 22.71875 58.640625 \r\nQ 16.015625 51.171875 16.015625 36.375 \r\nQ 16.015625 21.625 22.71875 14.15625 \r\nQ 29.4375 6.6875 42.828125 6.6875 \r\nQ 48.046875 6.6875 52.140625 7.59375 \r\nQ 56.25 8.5 59.515625 10.40625 \r\nz\r\n\" id=\"DejaVuSans-71\"/>\r\n     <path d=\"M 32.171875 -5.078125 \r\nQ 28.375 -14.84375 24.75 -17.8125 \r\nQ 21.140625 -20.796875 15.09375 -20.796875 \r\nL 7.90625 -20.796875 \r\nL 7.90625 -13.28125 \r\nL 13.1875 -13.28125 \r\nQ 16.890625 -13.28125 18.9375 -11.515625 \r\nQ 21 -9.765625 23.484375 -3.21875 \r\nL 25.09375 0.875 \r\nL 2.984375 54.6875 \r\nL 12.5 54.6875 \r\nL 29.59375 11.921875 \r\nL 46.6875 54.6875 \r\nL 56.203125 54.6875 \r\nz\r\n\" id=\"DejaVuSans-121\"/>\r\n     <path id=\"DejaVuSans-32\"/>\r\n     <path d=\"M 52 44.1875 \r\nQ 55.375 50.25 60.0625 53.125 \r\nQ 64.75 56 71.09375 56 \r\nQ 79.640625 56 84.28125 50.015625 \r\nQ 88.921875 44.046875 88.921875 33.015625 \r\nL 88.921875 0 \r\nL 79.890625 0 \r\nL 79.890625 32.71875 \r\nQ 79.890625 40.578125 77.09375 44.375 \r\nQ 74.3125 48.1875 68.609375 48.1875 \r\nQ 61.625 48.1875 57.5625 43.546875 \r\nQ 53.515625 38.921875 53.515625 30.90625 \r\nL 53.515625 0 \r\nL 44.484375 0 \r\nL 44.484375 32.71875 \r\nQ 44.484375 40.625 41.703125 44.40625 \r\nQ 38.921875 48.1875 33.109375 48.1875 \r\nQ 26.21875 48.1875 22.15625 43.53125 \r\nQ 18.109375 38.875 18.109375 30.90625 \r\nL 18.109375 0 \r\nL 9.078125 0 \r\nL 9.078125 54.6875 \r\nL 18.109375 54.6875 \r\nL 18.109375 46.1875 \r\nQ 21.1875 51.21875 25.484375 53.609375 \r\nQ 29.78125 56 35.6875 56 \r\nQ 41.65625 56 45.828125 52.96875 \r\nQ 50 49.953125 52 44.1875 \r\nz\r\n\" id=\"DejaVuSans-109\"/>\r\n    </defs>\r\n    <g transform=\"translate(110.505611 16.318125)scale(0.12 -0.12)\">\r\n     <use xlink:href=\"#DejaVuSans-71\"/>\r\n     <use x=\"77.490234\" xlink:href=\"#DejaVuSans-108\"/>\r\n     <use x=\"105.273438\" xlink:href=\"#DejaVuSans-111\"/>\r\n     <use x=\"166.455078\" xlink:href=\"#DejaVuSans-115\"/>\r\n     <use x=\"218.554688\" xlink:href=\"#DejaVuSans-115\"/>\r\n     <use x=\"270.654297\" xlink:href=\"#DejaVuSans-97\"/>\r\n     <use x=\"331.933594\" xlink:href=\"#DejaVuSans-114\"/>\r\n     <use x=\"373.046875\" xlink:href=\"#DejaVuSans-121\"/>\r\n     <use x=\"432.226562\" xlink:href=\"#DejaVuSans-32\"/>\r\n     <use x=\"464.013672\" xlink:href=\"#DejaVuSans-116\"/>\r\n     <use x=\"503.222656\" xlink:href=\"#DejaVuSans-101\"/>\r\n     <use x=\"564.746094\" xlink:href=\"#DejaVuSans-114\"/>\r\n     <use x=\"605.84375\" xlink:href=\"#DejaVuSans-109\"/>\r\n     <use x=\"703.255859\" xlink:href=\"#DejaVuSans-115\"/>\r\n    </g>\r\n   </g>\r\n  </g>\r\n </g>\r\n <defs>\r\n  <clipPath id=\"pac798b8623\">\r\n   <rect height=\"217.44\" width=\"252.362813\" x=\"29.643893\" y=\"22.318125\"/>\r\n  </clipPath>\r\n </defs>\r\n</svg>\r\n",
      "image/png": "[encoded data removed]"
     },
     "metadata": {}
    }
   ],
   "source": [
    "import matplotlib.pyplot as plt\n",
    "from matplotlib_venn import venn3\n",
    "\n",
    "intersect12 = len(set(glossary_1).intersection(glossary_2))\n",
    "intersect13 = len(set(glossary_1).intersection(glossary_3))\n",
    "intersect23 = len(set(glossary_2).intersection(glossary_3))\n",
    "intersect123 = len(set(glossary_1).intersection(glossary_2).intersection(glossary_3))\n",
    "\n",
    "v1 = len(glossary_1) - intersect12 - intersect13 + intersect123\n",
    "v2 = len(glossary_2) - intersect12 - intersect23 + intersect123\n",
    "v3 = len(glossary_3) - intersect13 - intersect23 + intersect123\n",
    "v12 = intersect12 - intersect123\n",
    "v13 = intersect13 - intersect123\n",
    "v23 = intersect23 - intersect123\n",
    "v123 = intersect123\n",
    "\n",
    "venn3(subsets=(v1, v2, v12, v3, v13, v23, v123), set_labels=('headphones', 'crutchfield', 'krisp.ai'))\n",
    "plt.title('Glossary terms')\n",
    "plt.show()"
   ]
  },
  {
   "cell_type": "code",
   "execution_count": 23,
   "metadata": {
    "colab": {
     "base_uri": "https://localhost:8080/",
     "height": 54
    },
    "colab_type": "code",
    "id": "L5OKqJazCVDS",
    "outputId": "3aa87401-4653-420b-ac62-a89172198f9b"
   },
   "outputs": [
    {
     "name": "stdout",
     "output_type": "stream",
     "text": [
      "['analog', 'balanced headphones', 'behind-the-neck', 'bright', 'circumaural', 'closed', 'coaxial', 'coherent', 'crossfeed', 'dac', 'damping factor', 'dbr', 'digital', 'digital inputs', 'distortion', 'driver', 'ear headphone', 'earbud', 'earpad', 'efficiency', 'filter switch', 'frequency response', 'full size', 'gain switch', 'harmonic distortion', 'headphone amplifier', 'headphone efficiency', 'headphone sensitivity', 'image depth', 'image width', 'imaging', 'impedance', 'in-ear monitor', 'input impedance', 'isolation', 'laid back', 'linear amplifier', 'liquid sounding', 'listening fatigue', 'lush', 'op-amp', 'opa 627', 'open', 'optical', 'otl tube amps', 'output impedance', 'power amplifier', 'power supply', 'punch', 'resonance', 's/pdif', 'sealed', 'self-powered speakers', 'solid state', 'soundstage', 'square wave response', 'supra-aural', 'transient response', 'transistor', 'tube amplifier', 'usb', 'warmth', 'wireless', '2.4 ghz', 'airline adapter', 'armature', 'around-the-ear', 'asymmetrical cord', 'bluetooth', 'binaural recording', 'decibel db', 'ear clips', 'earbud gels', 'earcup', 'ear hangers', 'folding headband', 'full-sized jack', 'in-the-ear', 'infrared ir transmission', 'mini plug', 'neodymium magnets', 'noise attenuation', 'noise-compensation', 'noise-isolating', 'ohms', 'on-the-ear', 'portable headphones', 'radio frequency rf transmission', 'single-sided cord', 'speaker', 'sport headphones', 'swivel earcups', 'talkthrough button', 'virtual surround sound', '900 mhz', 'all discrete', 'amplifier', 'attenuator', 'automatic call distributor', 'biaural or binaural', 'boom microphone', 'closed-back', 'convertible headphones', 'clipping', 'custom earphones', 'current', 'directional microphones', 'decibel', 'diy', 'in-ear', 'mp3 mpeg layer 3 file.', 'noise cancelling headphones', 'on-ear', 'over-ear', 'omni-directional', 'voip']\n"
     ]
    }
   ],
   "source": [
    "print(list(glossary.keys()))"
   ]
  },
  {
   "cell_type": "markdown",
   "metadata": {
    "colab_type": "text",
    "id": "_Ya5ggOOutVU"
   },
   "source": [
    "## Export data"
   ]
  },
  {
   "cell_type": "code",
   "execution_count": 0,
   "metadata": {
    "colab": {},
    "colab_type": "code",
    "id": "3YoWtWA5Nwvt"
   },
   "outputs": [],
   "source": [
    "import pandas as pd\n",
    "\n",
    "# convert dict to list of tuples\n",
    "glossary_list = list(zip(glossary.keys(), glossary.values()))\n",
    "glossary_tuple = [ (t[0], t[1]['desc'], t[1]['src']) for t in glossary_list]\n",
    "glossary_tuple = sorted(glossary_tuple, key=lambda x: x[0], reverse=False)\n",
    "\n",
    "# save in excel\n",
    "df = pd.DataFrame(glossary_tuple, columns=['Term', 'Description', 'Source'])\n",
    "df.to_excel('glossary.xls')\n",
    "\n",
    "# save pickle (time-stamp filename just in case, sites are blocked or are changed)\n",
    "from datetime import datetime\n",
    "import pickle\n",
    "suffix = datetime.now().strftime(\"%Y_%m_%d\")\n",
    "with open('glossary_' + suffix + '.pickle', 'wb') as handle:\n",
    "    pickle.dump(glossary, handle, protocol=pickle.HIGHEST_PROTOCOL)\n"
   ]
  },
  {
   "cell_type": "markdown",
   "metadata": {
    "colab_type": "text",
    "id": "dVPsa9XnGwac"
   },
   "source": [
    "## Testing"
   ]
  },
  {
   "cell_type": "code",
   "execution_count": 0,
   "metadata": {
    "colab": {},
    "colab_type": "code",
    "id": "twxxm6XVtubJ"
   },
   "outputs": [],
   "source": [
    "import pickle\n",
    "import glob\n",
    "# load most recent pickle file\n",
    "mypickle = sorted(glob.glob('./glossary_*.pickle'), reverse=True)\n",
    "with open(mypickle[0], 'rb') as handle:\n",
    "  glossary = pickle.load(handle)"
   ]
  },
  {
   "cell_type": "markdown",
   "metadata": {
    "colab_type": "text",
    "id": "BXodS-62s7su"
   },
   "source": [
    "### Word similarity"
   ]
  },
  {
   "cell_type": "code",
   "execution_count": 0,
   "metadata": {
    "colab": {},
    "colab_type": "code",
    "id": "6iAkSg3RJAO1"
   },
   "outputs": [],
   "source": [
    "%%capture\n",
    "# Get spacy models\n",
    "!python -m spacy download en_core_web_sm\n",
    "!python -m spacy download en_core_web_md"
   ]
  },
  {
   "cell_type": "code",
   "execution_count": 0,
   "metadata": {
    "colab": {},
    "colab_type": "code",
    "id": "eSqOe0foGzHs"
   },
   "outputs": [],
   "source": [
    "# Get similarity of two words - query term vs glossary term\n",
    "if IN_COLAB:\n",
    "  import en_core_web_md\n",
    "  nlp = en_core_web_md.load()\n",
    "else:\n",
    "  import spacy \n",
    "  nlp = spacy.load('en_core_web_md') "
   ]
  },
  {
   "cell_type": "code",
   "execution_count": 0,
   "metadata": {
    "colab": {
     "base_uri": "https://localhost:8080/",
     "height": 90
    },
    "colab_type": "code",
    "id": "4Ud4zoLKJ98Q",
    "outputId": "e65f38c3-f45b-4ea3-87d0-ffa66880bc04"
   },
   "outputs": [
    {
     "name": "stdout",
     "output_type": "stream",
     "text": [
      "[(in-ear monitor, 0.923780920833621), (in-ear, 0.7657072884595223), (over-ear, 0.6971400142243328), (ear headphone, 0.6746689610199131), (in-the-ear, 0.670699913251981), (on-ear, 0.6645468958381086), (ear clips, 0.6496424273310502), (around-the-ear, 0.6418729406675013), (ear hangers, 0.6362281562916151), (biaural or binaural, 0.6356913652869836), (on-the-ear, 0.607228467157929), (virtual surround sound, 0.5722404131729087), (binaural recording, 0.5692446755143804), (headphone sensitivity, 0.5608975877053368), (balanced headphones, 0.5524378211388962), (portable headphones, 0.5414444348146429), (custom earphones, 0.5399969324642944), (behind-the-neck, 0.5311743960727074), (frequency response, 0.5287875285996619), (sport headphones, 0.5287825550868984), (noise cancelling headphones, 0.5263969817200289), (noise attenuation, 0.5245994629592661), (square wave response, 0.5129230763278021), (noise-isolating, 0.5103457957079598), (boom microphone, 0.5072525959043113), (headphone efficiency, 0.5063990273899495), (listening fatigue, 0.4982467341210658), (swivel earcups, 0.4956105826304747), (noise-compensation, 0.4911855946888719), (laid back, 0.4898189344250572), (all discrete, 0.4885459475934453), (solid state, 0.4849535785903543), (full-sized jack, 0.4840727865711953), (closed-back, 0.48107895032879994), (earbud gels, 0.4790374364766946), (single-sided cord, 0.4781898430970821), (mini plug, 0.4780359944353889), (gain switch, 0.4750173505410604), (self-powered speakers, 0.47328917455291286), (digital inputs, 0.46636566011687164), (damping factor, 0.45472641025109006), (infrared ir transmission, 0.45329507533087476), (radio frequency rf transmission, 0.44689409662868806), (liquid sounding, 0.44547856767357913), (full size, 0.4451421294033272), (open, 0.44336440667359966), (asymmetrical cord, 0.43951731891198437), (power supply, 0.4395085676695423), (circumaural, 0.43836228286398105), (earbud, 0.43836228286398105), (earpad, 0.43836228286398105), (earcup, 0.43836228286398105), (omni-directional, 0.43759155977326863), (wireless, 0.4367388768103025), (transient response, 0.4354064230045047), (filter switch, 0.42610369425680905), (speaker, 0.42129863646812454), (directional microphones, 0.4192774858457428), (image depth, 0.41658765359623595), (digital, 0.40655388859055064), (closed, 0.40470504565360393), (headphone amplifier, 0.4025907032567422), (decibel, 0.40231907793302485), (bright, 0.3933870801803781), (talkthrough button, 0.3927861108885905), (tube amplifier, 0.39119344894148644), (imaging, 0.3847307910124891), (current, 0.3826575014727006), (bluetooth, 0.3826174434411425), (power amplifier, 0.37997192218905146), (convertible headphones, 0.3778599785354743), (automatic call distributor, 0.3774008923402748), (decibel db, 0.37681494865712917), (mp3 mpeg layer 3 file, 0.3730420494956855), (image width, 0.365482131426921), (analog, 0.3636314631433122), (isolation, 0.36314638975387736), (optical, 0.36118541367358703), (airline adapter, 0.35428990651734993), (input impedance, 0.34681401246657245), (resonance, 0.34227981569180793), (harmonic distortion, 0.3419449466302042), (output impedance, 0.3298540276656696), (warmth, 0.3252516596674281), (usb, 0.3250527224414169), (efficiency, 0.31755692961957155), (distortion, 0.31738743176653966), (driver, 0.3126653298384121), (folding headband, 0.3113047170606182), (armature, 0.31033835813728355), (op-amp, 0.3065736402834485), (coaxial, 0.29114428386463), (sealed, 0.28388796134692507), (linear amplifier, 0.28139480743392126), (s pdif, 0.2801274431016243), (transistor, 0.27812280189637784), (punch, 0.2616190068487896), (supra-aural, 0.25997100136933754), (otl tube amps, 0.25991312042556164), (amplifier, 0.25820360912249724), (clipping, 0.25372337586911814), (neodymium magnets, 0.2529975797450762), (coherent, 0.21010600250315425), (diy, 0.20866524961194463), (2 4 ghz, 0.18684008661909524), (soundstage, 0.17973779097055975), (900 mhz, 0.16733015383049446), (lush, 0.15802686068878471), (impedance, 0.14223434786667444), (ohms, 0.14223434786667444), (attenuator, 0.14223434786667444), (voip, 0.11386126962898911), (dac, 0.05374303790401336), (opa 627, 0.05270185221324363), (crossfeed, -0.23449755067602088), (dbr, -0.24039497006067503)]\n",
      "Query: in ear monitor\n",
      "Result: Another term for In-ear headphones but also commonly known as IEMs, ear canal headphones, earphones, and canal-phones. In-ear headphones are inserted into and seal the ear canal and provide the highest amount of isolation from outside noise of any headphone type including noise-canceling headphones. There are two types of in-ear headphones: deep sealing and shallow sealing. With deep seating in-ear headphones, the tip of the earphone goes in about half the length of the ear canal and seats in the bony section of the ear canal; this type provides about -23dB of isolation. Shallow seating types seal closer to the entrance to the ear canal and provide about -15dB of isolation.\n"
     ]
    }
   ],
   "source": [
    "stop_words = [] # to add if necessary\n",
    "query = 'in ear monitor'\n",
    "\n",
    "# pre-process query\n",
    "query_nlp = nlp(query)\n",
    "query_no_stop_nlp = nlp(' '.join([t.text for t in query_nlp if t.text.lower() not in stop_words]))\n",
    "\n",
    "# compare with our glossary\n",
    "keys_nlp = [nlp(k) for k in list(glossary.keys())]\n",
    "similarity_nlp = [(k, query_no_stop_nlp.similarity(k)) for k in keys_nlp]\n",
    "results = sorted(similarity_nlp, key=lambda x: x[1], reverse=True)\n",
    "print(results)\n",
    "\n",
    "# return description for top results\n",
    "print('Query:', query)\n",
    "print('Result:', glossary[results[0][0].text]['desc'])"
   ]
  },
  {
   "cell_type": "code",
   "execution_count": 0,
   "metadata": {
    "colab": {},
    "colab_type": "code",
    "id": "icT7JBLrvkRM"
   },
   "outputs": [],
   "source": []
  },
  {
   "cell_type": "markdown",
   "metadata": {
    "colab_type": "text",
    "id": "ATs70VYqvku-"
   },
   "source": [
    "### Question Answering Model"
   ]
  },
  {
   "cell_type": "markdown",
   "metadata": {
    "colab_type": "text",
    "id": "Kftvf17h9g1E"
   },
   "source": [
    "Question Answering with Pretrained BERT model on SQuAD dataset\n",
    "\n",
    "See http://docs.deeppavlov.ai/en/master/features/models/squad.html#"
   ]
  },
  {
   "cell_type": "code",
   "execution_count": 0,
   "metadata": {
    "colab": {},
    "colab_type": "code",
    "id": "fM75t9qewr7t"
   },
   "outputs": [],
   "source": [
    "!pip install deeppavlov\n",
    "!pip install email-validator\n",
    "!python -m deeppavlov install squad_bert"
   ]
  },
  {
   "cell_type": "code",
   "execution_count": 0,
   "metadata": {
    "colab": {},
    "colab_type": "code",
    "id": "LeZVs8o9x758"
   },
   "outputs": [],
   "source": [
    "from deeppavlov import build_model, configs\n",
    "model = build_model(configs.squad.squad, download=True) # Default, but assumes answer is within context\n",
    "model_noans = build_model(configs.squad.multi_squad_noans, download=True) # SQuAD with contexts without correct answers\n"
   ]
  },
  {
   "cell_type": "code",
   "execution_count": 0,
   "metadata": {
    "colab": {
     "base_uri": "https://localhost:8080/",
     "height": 459
    },
    "colab_type": "code",
    "id": "ujGNDa8r2zRP",
    "outputId": "7432e5a8-043d-4b80-9157-9d1f5aa8324b"
   },
   "outputs": [
    {
     "name": "stdout",
     "output_type": "stream",
     "text": [
      "********************************************************************************\n",
      "Context:  ['Just as “calories” is the basic unit of energy as written on food labels, “decibels” is the basic unit of sound.']\n",
      "Query: ['How did I come here?']\n",
      "Answer 1: Just as “calories” is the basic unit of energy\n",
      "Answer 2: I don't know!\n",
      "\n",
      "Query: ['What is the basic unit']\n",
      "Answer 1: decibels”\n",
      "Answer 2: decibels\n",
      "\n",
      "********************************************************************************\n",
      "Context:  ['\\nA headphone amplifier is a miniature audio power amplifier specifically designed to drive the miniature audio drivers in headphones. \\nHeadphone amplifiers work essentially\\xa0the same as power amplifiers used to drive speakers except they are much lower power and need to be capable of driving a wider range of impedance (~20-600 Ohms) than speaker amplifiers (4-8 Ohms). \\nHeadphone amplifiers typically range between 0.1 to 1 Watt and about 0.2 to 2 Ohms output impedance.\\n']\n",
      "Query: ['why am I here?']\n",
      "Answer 1: to drive the miniature audio drivers in headphones\n",
      "Answer 2: I don't know!\n",
      "\n",
      "Query: ['how are earcups connected?']\n",
      "Answer 1: headphone amplifier is a miniature audio power amplifier\n",
      "Answer 2: I don't know!\n",
      "\n",
      "Query: ['what is a headphone amplifier']\n",
      "Answer 1: a miniature audio power amplifier\n",
      "Answer 2: a miniature audio power amplifier\n",
      "\n"
     ]
    }
   ],
   "source": [
    "def getAnswer(c, queries, prettify=True):\n",
    "  print('*'*80)\n",
    "  print('Context: ', c)\n",
    "  for q in queries:\n",
    "    a1 = model(c, [q])\n",
    "    a2 = model_noans(c, [q])\n",
    "    print('Query:', [q])\n",
    "\n",
    "    if (prettify):\n",
    "      a1 = a1[0][0]\n",
    "      a2 = a2[0][0]\n",
    "      a2 = a2 if a2 !='' else 'I don\\'t know!'\n",
    "    print('Answer 1:', a1)\n",
    "    print('Answer 2:', a2)\n",
    "    print()\n",
    "\n",
    "c='Just as “calories” is the basic unit of energy as written on food labels, “decibels” is the basic unit of sound.'\n",
    "# getAnswer([c],['What is the basic unit']) # Test with irrelevant question\n",
    "getAnswer([c],['How did I come here?', 'What is the basic unit']) # Test with irrelevant question\n",
    "\n",
    "c2='''\n",
    "A headphone amplifier is a miniature audio power amplifier specifically designed to drive the miniature audio drivers in headphones. \n",
    "Headphone amplifiers work essentially the same as power amplifiers used to drive speakers except they are much lower power and need to be capable of driving a wider range of impedance (~20-600 Ohms) than speaker amplifiers (4-8 Ohms). \n",
    "Headphone amplifiers typically range between 0.1 to 1 Watt and about 0.2 to 2 Ohms output impedance.\n",
    "'''\n",
    "\n",
    "getAnswer([c2], ['why am I here?', 'how are earcups connected?', 'what is a headphone amplifier']) \n",
    "\n"
   ]
  },
  {
   "cell_type": "code",
   "execution_count": 0,
   "metadata": {
    "colab": {
     "base_uri": "https://localhost:8080/",
     "height": 213
    },
    "colab_type": "code",
    "id": "Douybq0H773i",
    "outputId": "a997168f-6eb6-487a-8393-dc79a31d94f0"
   },
   "outputs": [
    {
     "name": "stdout",
     "output_type": "stream",
     "text": [
      "********************************************************************************\n",
      "Context:  ['\\nThe U.S. is ready to engage in talks about North Korea’s nuclear program even as it maintains pressure on Kim Jong Un’s regime, the Washington Post reported, citing an interview with Vice President Mike Pence. Pence and South Korea’s President Moon Jae-in agreed on a post-Olympics strategy during conversations at the Winter Olympics in the South Korean resort of Pyeongchang that Pence dubbed “maximum pressure and engagement at the same time.” Pence spoke in an interview on his way home from the Winter Olympics. “The point is, no pressure comes off until they are actually doing something that the alliance believes represents a meaningful step toward denuclearization,” the Post quoted Pence as saying. “So the maximum pressure campaign is going to continue and intensify. But if you want to talk, we’ll talk.”\\n']\n",
      "Query: ['What movie did I watch?']\n",
      "Answer 1: Pence\n",
      "Answer 2: I don't know!\n",
      "\n",
      "Query: ['who is ready to engage in talks']\n",
      "Answer 1: The U.S.\n",
      "Answer 2: The U.S.\n",
      "\n"
     ]
    }
   ],
   "source": [
    "context = '''\n",
    "The U.S. is ready to engage in talks about North Korea’s nuclear program even as it maintains pressure on Kim Jong Un’s regime, the Washington Post reported, citing an interview with Vice President Mike Pence. Pence and South Korea’s President Moon Jae-in agreed on a post-Olympics strategy during conversations at the Winter Olympics in the South Korean resort of Pyeongchang that Pence dubbed “maximum pressure and engagement at the same time.” Pence spoke in an interview on his way home from the Winter Olympics. “The point is, no pressure comes off until they are actually doing something that the alliance believes represents a meaningful step toward denuclearization,” the Post quoted Pence as saying. “So the maximum pressure campaign is going to continue and intensify. But if you want to talk, we’ll talk.”\n",
    "'''\n",
    "getAnswer([context], ['What movie did I watch?', 'who is ready to engage in talks']) \n"
   ]
  },
  {
   "cell_type": "markdown",
   "metadata": {
    "colab_type": "text",
    "id": "Di5jRaSatF5A"
   },
   "source": [
    "## Useful links"
   ]
  },
  {
   "cell_type": "markdown",
   "metadata": {
    "colab_type": "text",
    "id": "M1_6I1UItJy1"
   },
   "source": [
    " https://medium.com/@adriensieg/text-similarities-da019229c894"
   ]
  },
  {
   "cell_type": "markdown",
   "metadata": {
    "colab_type": "text",
    "id": "NQ2ZGdvZtQNB"
   },
   "source": [
    "http://docs.deeppavlov.ai/en/master/features/models/squad.html"
   ]
  }
 ],
 "metadata": {
  "colab": {
   "collapsed_sections": [],
   "name": "Glossary.ipynb",
   "provenance": [],
   "toc_visible": true
  },
  "kernelspec": {
   "display_name": "Python 3.6.9 64-bit ('eba5004': conda)",
   "language": "python",
   "name": "python36964biteba5004conda204e04c7c4bf4d1b847dbaeae0669b95"
  },
  "language_info": {
   "codemirror_mode": {
    "name": "ipython",
    "version": 3
   },
   "file_extension": ".py",
   "mimetype": "text/x-python",
   "name": "python",
   "nbconvert_exporter": "python",
   "pygments_lexer": "ipython3",
   "version": "3.6.9-final"
  }
 },
 "nbformat": 4,
 "nbformat_minor": 1
}