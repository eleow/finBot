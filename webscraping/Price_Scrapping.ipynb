{
 "cells": [
  {
   "cell_type": "code",
   "execution_count": 1,
   "metadata": {
    "colab": {},
    "colab_type": "code",
    "id": "oEXZoar7CCls"
   },
   "outputs": [],
   "source": [
    "try:\n",
    "    import google.colab\n",
    "    IN_COLAB = True\n",
    "  \n",
    "  # # If using colab\n",
    "  # from google.colab import drive\n",
    "  # drive.mount('/content/drive')\n",
    "\n",
    "  # import os\n",
    "  # os.chdir('/content/drive/My Drive/Colab Notebooks/EBA5004')\n",
    "  # print('Working directory changed to ' + os.getcwd())\n",
    "\n",
    "except:\n",
    "    IN_COLAB = False\n"
   ]
  },
  {
   "cell_type": "code",
   "execution_count": 0,
   "metadata": {
    "colab": {},
    "colab_type": "code",
    "id": "eDZ9hl-fA7II"
   },
   "outputs": [],
   "source": [
    "%%capture\n",
    "# Install dependencies -chromium, its driver, and selenium\n",
    "!apt-get update\n",
    "!apt install chromium-chromedriver\n",
    "!cp /usr/lib/chromium-browser/chromedriver /usr/bin\n",
    "!pip install selenium\n",
    "!pip install pyvirtualdisplay\n",
    "!sudo apt-get install xvfb"
   ]
  },
  {
   "cell_type": "code",
   "execution_count": 3,
   "metadata": {
    "colab": {
     "base_uri": "https://localhost:8080/",
     "height": 34
    },
    "colab_type": "code",
    "executionInfo": {
     "elapsed": 36678,
     "status": "ok",
     "timestamp": 1584956939335,
     "user": {
      "displayName": "Edmund Leow",
      "photoUrl": "https://lh3.googleusercontent.com/a-/AOh14Gh_HoCvN4oQ-ZDVKbdVNE6D644AKure9xRaqmQryA=s64",
      "userId": "07683038191893357409"
     },
     "user_tz": -480
    },
    "id": "BRT8v4fOyr-M",
    "outputId": "ff80e6b3-060c-414d-9581-a96627c0f436"
   },
   "outputs": [
    {
     "name": "stdout",
     "output_type": "stream",
     "text": [
      "Mon Mar 23 17:48:58 +08 2020\n"
     ]
    }
   ],
   "source": [
    "# Set to Singapore\n",
    "!rm /etc/localtime\n",
    "!ln -s /usr/share/zoneinfo/Asia/Singapore /etc/localtime\n",
    "!date"
   ]
  },
  {
   "cell_type": "code",
   "execution_count": 4,
   "metadata": {
    "colab": {},
    "colab_type": "code",
    "id": "zPTzOX_QBUNi"
   },
   "outputs": [],
   "source": [
    "from bs4 import BeautifulSoup as s\n",
    "import pandas as pd\n",
    "import re\n",
    "from tqdm import tqdm\n",
    "\n",
    "# set options to be headless\n",
    "from selenium import webdriver\n",
    "\n",
    "chrome_options = webdriver.ChromeOptions()\n",
    "chrome_options.add_argument('--headless')\n",
    "chrome_options.add_argument('--no-sandbox')\n",
    "chrome_options.add_argument('--disable-dev-shm-usage')\n",
    "# driver = webdriver.Chrome('chromedriver', chrome_options=chrome_options)\n",
    "\n",
    "# function definitions\n",
    "def web_browser(web):\n",
    "    # browser = webdriver.Safari()\n",
    "    browser = webdriver.Chrome('chromedriver', options=chrome_options)\n",
    "    # browser = webdriver.Chrome('chromedriver_79', options=chrome_options)   # When running locally\n",
    "    browser.get(web)\n",
    "    content = browser.page_source\n",
    "    return content\n",
    "\n",
    "def updateDict(dict, key, desc, src, bPreferShort = True):\n",
    "    \n",
    "    # preprocess key to remove unwanted characters such as ',\",®, etc\n",
    "    k = re.sub('[^\\w\\-\\.\\/]+',' ', key.lower()).strip()\n",
    "\n",
    "    # update value (choose shorter/longer value if exists)\n",
    "    if k in dict and (len(desc) > len(dict[k]['desc']) if bPreferShort else len(desc) < len(dict[k]['desc'])): \n",
    "        return\n",
    "\n",
    "    dict[k] = {\n",
    "        'desc': desc,\n",
    "        'src': src\n",
    "    }\n",
    "\n",
    "def getDetailsDict(dict):\n",
    "    print('Dictionary: ')\n",
    "    print(' num keys: ', len(dict))\n",
    "\n",
    "    v = list(dict.values())\n",
    "    unique_src = set([ t['src'] for t in v])\n",
    "    print(' sources:', unique_src)\n"
   ]
  },
  {
   "cell_type": "markdown",
   "metadata": {
    "colab_type": "text",
    "id": "Zo3qu_o3upJQ"
   },
   "source": [
    "## Scrape Data - Amazon"
   ]
  },
  {
   "cell_type": "code",
   "execution_count": 0,
   "metadata": {
    "colab": {
     "base_uri": "https://localhost:8080/",
     "height": 90
    },
    "colab_type": "code",
    "id": "_fBE1zc44yxw",
    "outputId": "cb01b987-bcdf-4d4a-c19f-5b3e1ca7a56f"
   },
   "outputs": [
    {
     "name": "stdout",
     "output_type": "stream",
     "text": [
      "22\n",
      "22\n",
      "{'COWIN E7 Active Noise Cancelling Headphones Bluetooth Headphones with Microphone Deep Bass Wireless Headphones Over Ear, Comfortable Protein Earpads, 30 Hours Playtime for Travel/Work, Black': '$59.99', 'Bluetooth Headphones, LETSCOM 100 Hours Playtime Wireless Headphones Over Ear with Deep Bass, Hi-Fi Sound and Soft Earpads,Built-in Mic Wired Headset for Cell Phones PC Tablet Home Office-Silver': '$26.99', 'Panasonic ErgoFit In-Ear Earbud Headphones RP-HJE120-K (Black) Dynamic Crystal Clear Sound, Ergonomic Comfort-Fit': '$9.01', 'Jabra Move Wireless Stereo Headphones - Black': '$49.99', 'Sony MDRE9LP/BLK Ear Buds': '$9.28', 'Aux Headphones/Earphones/Earbuds 3.5mm Wired Headphones Noise Isolating Earphones with Built-in Microphone & Volume Control Compatible with iPhone 6 SE 5S 4 iPod iPad Samsung/Android MP3': '$11.99', 'House of Marley Smile Jamaica Wired Noise Cancelling Headphones with Microphone': '$24.99', 'USB C to 3.5mm Headphone Adapter,Jevtech Type C to Headphone Adapter with DAC Chip for Pixel 2/2XL/ 3/ 3XL,Samsung Galaxy Note 10, iPad Pro 2018,One Plus 6T/ 2Pack': '$17.99', 'V-MODA Crossfade M-100 Over-Ear Noise-Isolating Metal Headphone (Matte Black Metal)': '$198.98', 'Sony MDRX05/WS Simon Cowell X Headphones (White/Silver)': '$89.75', '[2 Pack] Aux Headphones/Earbuds/Earphones, Vize 3.5mm Wired Headphones Noise Isolating Earphones Volume Control & Built-in Microphone Compatible with Samsung/iPhone/Android/MP3/MP4': '$11.99', 'Marshall Monitor II Active Noise Canceling Over-Ear Bluetooth Headphone': '$319.99', 'Sony MDRAS200 Active Sports Headphones (White)': '$13.50', 'Sony MDR-J10 H.Ear Headphones with Non-Slip Design (Green)': '$39.99', 'Sennheiser CX300  II  CX 300 II Precision Enhanced Bass Earbuds, Black (Discontinued by Manufacturer)': '$25.00', 'Skullcandy S2DUDZ058 Headphone Earbud (Discontinued by Manufacturer)': '$8.99', '1MORE Triple Driver in-Ear Earphones Hi-Res Headphones with High Resolution, Bass Driven Sound, MEMS Mic, in-Line Remote, High Fidelity for Smartphones/PC/Tablet - Silver': '$71.54', 'JVC Blue Flat and Foldable Colorful Flats On Ear Headphone with 3.94 foot Gold Plated Phone Slim Plug HAS160A': '$10.99', 'Universal Waterproof Headphone Protection Pouch Bag for Varias Headsets 11\" x 9.25\" inch Metallic Gray Color': '$6.88', 'Hard Storage Case for JBL Everest 700/E45BT/E55BT On-Ear Wireless Headphones by Aenllosi (Blue)': '$8.99', 'PeohZarr On-Ear Headphones New Version with Microphone, Lightweight Folding Stereo Bass Headphones with 1.5M Tangle Free Cord, Portable Wired Headphones for Smartphone Laptop Computer MP3/4-Blue': '$15.99', 'On Ear Headphones with Mic, Vogek Lightweight Portable Fold-Flat Stereo Bass Headphones with 1.5M Tangle Free Cord and Microphone-Gold': '$16.99'}\n"
     ]
    }
   ],
   "source": [
    "# Scrape from amazon.com\n",
    "url=\"https://www.amazon.com/s?crid=19P9EMN5KVHGL&i=electronics-intl-ship&k=headphones&ref=nb_sb_ss_i_1_9&sprefix=headphone%2Celectronics-intl-ship%2C361&url=search-alias%3Delectronics-intl-ship\"\n",
    "#url=\"https://www.amazon.com/s?k=AKG+K52+Headphones&s=price-asc-rank&qid=1584865427&swrs=5FBBF8F8699D3F4E0E1B8CCA9222F191&ref=sr_st_price-asc-rank\"\n",
    "webpage = web_browser(url)\n",
    "soup = s(webpage,'html.parser')\n",
    "models = [p.text for p in soup.find_all(\"span\", class_=\"a-size-medium a-color-base a-text-normal\")]\n",
    "prices=[]\n",
    "# for price_div in soup.find_all(lambda tag: tag.name == 'span' and tag.get('class') == ['a-price']):\n",
    "#     price_whole = price_div.find(class_='a-offscreen').text\n",
    "#     prices.append(price_whole)\n",
    "#     #print(prices)\n",
    "\n",
    "for item in soup.find_all(\"span\", class_=\"a-size-medium a-color-base a-text-normal\"):\n",
    "    price_whole =item.findNext(class_='a-offscreen').text\n",
    "    prices.append(price_whole)\n",
    "\n",
    "print(len(models))\n",
    "print(len(prices))\n",
    "dictionary = dict(zip(models, prices))\n",
    "print(dictionary)"
   ]
  },
  {
   "cell_type": "markdown",
   "metadata": {
    "colab_type": "text",
    "id": "U8htSuN-GLNS"
   },
   "source": [
    "\n",
    "\n",
    "---\n",
    "\n",
    "\n",
    "## Search Amazon by ASIN\n",
    "\n",
    "If we search amazon based on model name eg AKG MKII, and sort by price, search results can be misleading. For example we may get accessories for it instead of the actual item. So the best way for Amazon, is to get the product's Amazon Standard Identification Number (ASIN), and use it to search"
   ]
  },
  {
   "cell_type": "code",
   "execution_count": 0,
   "metadata": {
    "colab": {
     "base_uri": "https://localhost:8080/",
     "height": 34
    },
    "colab_type": "code",
    "id": "ZAW5xnOTElGG",
    "outputId": "0ff67ffd-fcb7-4279-ab2b-ada85e4c0695"
   },
   "outputs": [
    {
     "name": "stdout",
     "output_type": "stream",
     "text": [
      "https://www.amazon.com/s?k=AKG+K141+MKII&i=electronics-intl-ship&s=price-asc-rank\n"
     ]
    }
   ],
   "source": [
    "# Get search URL in AMAZON\n",
    "base_url=\"https://www.amazon.com/s?k=\"\n",
    "sort = \"&s=price-asc-rank\"\n",
    "dept = \"&i=electronics-intl-ship\"\n",
    "\n",
    "key ='AKG K141 MKII' # <-------- Product name\n",
    "key = key.replace(' ', '+')\n",
    "url = f\"{base_url}{key}{dept}{sort}\"\n",
    "print(url)"
   ]
  },
  {
   "cell_type": "code",
   "execution_count": 9,
   "metadata": {
    "colab": {},
    "colab_type": "code",
    "id": "EcyM1SJPM0M_"
   },
   "outputs": [],
   "source": [
    "import re\n",
    "\n",
    "# A couple of possibilities\n",
    "# Product has \n",
    "# (i) Both 'New' and 'Used' sellers\n",
    "# (ii) Only 'New' sellers\n",
    "# (iii) Only 'Used' sellers\n",
    "# (iv) No sellers\n",
    "# Currently only tried for (i) and (iv)\n",
    "\n",
    "def get_ps(soup, id_str, class_str):\n",
    "    s = None\n",
    "    p = soup.find(id=id_str) #\n",
    "    if p is not None:\n",
    "        p = float(p.get_text().replace(\"$\",\"\"))\n",
    "        s = soup.select(class_str)[0].get_text().strip().lower()\n",
    "        \n",
    "        if 'free shipping' in s: \n",
    "            s = 0\n",
    "        else:\n",
    "            s = float(re.sub('[+$a-z]', '', s))\n",
    "        \n",
    "    return p, s\n",
    "    \n",
    "\n",
    "def get_all_prices(soup):\n",
    "    if soup.find(id=\"unqualifiedBuyBox_feature_div\") != None:\n",
    "        print(\"No sellers!?\")\n",
    "        return None, None, None, None\n",
    "    \n",
    "    # Only 1 seller? Or only New item\n",
    "    price, shipping = get_ps(soup, \"price_inside_buybox\", \"div#shippingMessageInsideBuyBox_feature_div div.a-section div.a-row\")\n",
    "    if price is not None:\n",
    "        print(f\"Buy: ${price}, with shipping ${shipping}, for a total of ${price + shipping}\")\n",
    "        return price, shipping, None, None\n",
    "    \n",
    "    # Might have both New and Used item??\n",
    "    new_price, new_shipping = get_ps(soup, \"newBuyBoxPrice\", \"div#shippingMessageInsideBuyBox_feature_div div.a-section div.a-row\")\n",
    "    if new_price is not None:\n",
    "        print(f\"Buy new: ${new_price}, with shipping ${new_shipping}, for a total of ${new_price + new_shipping}\")\n",
    "    \n",
    "    used_price, used_shipping = get_ps(soup, \"usedPrice\", \"div#usedBuyBoxShippingMessage_feature_div div.a-section div.a-row\")\n",
    "    if used_price is not None:\n",
    "        print(f\"Buy used: ${used_price}, with shipping ${used_shipping}, for a total of ${used_price + used_shipping}\")\n",
    "        \n",
    "    if new_price is None and used_price is None:\n",
    "        print(\"No sellers!?\")\n",
    "  \n",
    "    return (new_price, new_shipping, used_price, used_shipping)\n"
   ]
  },
  {
   "cell_type": "code",
   "execution_count": 12,
   "metadata": {
    "colab": {
     "base_uri": "https://localhost:8080/",
     "height": 34
    },
    "colab_type": "code",
    "executionInfo": {
     "elapsed": 969,
     "status": "ok",
     "timestamp": 1584957549246,
     "user": {
      "displayName": "Edmund Leow",
      "photoUrl": "https://lh3.googleusercontent.com/a-/AOh14Gh_HoCvN4oQ-ZDVKbdVNE6D644AKure9xRaqmQryA=s64",
      "userId": "07683038191893357409"
     },
     "user_tz": -480
    },
    "id": "Kb9u9lFUN9MY",
    "outputId": "5071c01b-468a-4473-d81b-8ec374ead75d"
   },
   "outputs": [
    {
     "name": "stdout",
     "output_type": "stream",
     "text": [
      "https://www.amazon.com/dp/B0016MNBAM\n"
     ]
    }
   ],
   "source": [
    "import csv\n",
    "import pickle\n",
    "\n",
    "# Turns out if we have the ASIN, the url is pretty simple. The 'best' item for this ASIN is automatically recommended by Amazon!!\n",
    "# (Though it is possible that there are NO sellers for this item)\n",
    "# See https://blog.refundsmanager.com/multiple-sellers-of-the-same-item/\n",
    "asin = 'B0016MNBAM' # <--- 'best' seller (has multiple 'new' and 'used' sellers)\n",
    "# asin = \"B083F1LVZV\" # <--- no seller in Singapore\n",
    "# asin = \n",
    "url = f\"https://www.amazon.com/dp/{asin}\"\n",
    "print(url)\n",
    "\n",
    "toParse = False  # Set to false if we already have a saved version of it\n",
    "temp = f'temp_{asin}'\n",
    "\n",
    "if toParse:\n",
    "    webpage = web_browser(url)\n",
    "    soup = s(webpage,'html.parser')\n",
    "\n",
    "    # Save to analyse html code, if necessary\n",
    "    with open(temp+'.html', 'w+', encoding=\"utf-8-sig\") as f:\n",
    "        f.writelines(str(soup))\n",
    "\n",
    "else:\n",
    "    # We are testing out stuff.. Don't webscrape again! Just use the cached results, so that we don't 'waste' our web-scraping attempts\n",
    "    with open(temp+'.html', 'r', encoding=\"utf-8-sig\") as p:\n",
    "        soup = s(p, 'html.parser')\n"
   ]
  },
  {
   "cell_type": "code",
   "execution_count": 13,
   "metadata": {
    "colab": {
     "base_uri": "https://localhost:8080/",
     "height": 34
    },
    "colab_type": "code",
    "executionInfo": {
     "elapsed": 762,
     "status": "ok",
     "timestamp": 1584957552526,
     "user": {
      "displayName": "Edmund Leow",
      "photoUrl": "https://lh3.googleusercontent.com/a-/AOh14Gh_HoCvN4oQ-ZDVKbdVNE6D644AKure9xRaqmQryA=s64",
      "userId": "07683038191893357409"
     },
     "user_tz": -480
    },
    "id": "j2xcS26RL_7u",
    "outputId": "8f020e0d-4f19-482a-fd22-f7bef5d21ac6"
   },
   "outputs": [
    {
     "name": "stdout",
     "output_type": "stream",
     "text": [
      "Buy new: $124.17, with shipping $4.49, for a total of $128.66\n",
      "Buy used: $63.52, with shipping $0, for a total of $63.52\n"
     ]
    }
   ],
   "source": [
    "# Get price and shipping details. NOTE: Need to run locally to be SG prices and shipping costs, else will be US prices and shipping!!!!\n",
    "(new_price, new_shipping, used_price, used_shipping) = get_all_prices(soup)"
   ]
  },
  {
   "cell_type": "markdown",
   "metadata": {
    "colab_type": "text",
    "id": "rRa3myPUyr-r"
   },
   "source": [
    "# ----------------------------------------------------------------------------------------------------------"
   ]
  },
  {
   "cell_type": "code",
   "execution_count": 0,
   "metadata": {
    "colab": {
     "base_uri": "https://localhost:8080/",
     "height": 731
    },
    "colab_type": "code",
    "id": "gIwZ8W4FJVnf",
    "outputId": "d9735fc8-c361-482b-95f4-08bd35acb3c4"
   },
   "outputs": [
    {
     "data": {
      "text/html": [
       "<div>\n",
       "<style scoped>\n",
       "    .dataframe tbody tr th:only-of-type {\n",
       "        vertical-align: middle;\n",
       "    }\n",
       "\n",
       "    .dataframe tbody tr th {\n",
       "        vertical-align: top;\n",
       "    }\n",
       "\n",
       "    .dataframe thead th {\n",
       "        text-align: right;\n",
       "    }\n",
       "</style>\n",
       "<table border=\"1\" class=\"dataframe\">\n",
       "  <thead>\n",
       "    <tr style=\"text-align: right;\">\n",
       "      <th></th>\n",
       "      <th>0</th>\n",
       "      <th>1</th>\n",
       "    </tr>\n",
       "  </thead>\n",
       "  <tbody>\n",
       "    <tr>\n",
       "      <th>0</th>\n",
       "      <td>COWIN E7 Active Noise Cancelling Headphones Bl...</td>\n",
       "      <td>$49.99</td>\n",
       "    </tr>\n",
       "    <tr>\n",
       "      <th>1</th>\n",
       "      <td>Panasonic ErgoFit In-Ear Earbud Headphones RP-...</td>\n",
       "      <td>$9.01</td>\n",
       "    </tr>\n",
       "    <tr>\n",
       "      <th>2</th>\n",
       "      <td>Sony MDRE9LP/BLK Ear Buds</td>\n",
       "      <td>$9.12</td>\n",
       "    </tr>\n",
       "    <tr>\n",
       "      <th>3</th>\n",
       "      <td>House of Marley Smile Jamaica Wired Noise Canc...</td>\n",
       "      <td>$24.99</td>\n",
       "    </tr>\n",
       "    <tr>\n",
       "      <th>4</th>\n",
       "      <td>Jabra Move Wireless Stereo Headphones - Black</td>\n",
       "      <td>$49.99</td>\n",
       "    </tr>\n",
       "    <tr>\n",
       "      <th>5</th>\n",
       "      <td>Skullcandy S2DUDZ058 Headphone Earbud (Discont...</td>\n",
       "      <td>$8.99</td>\n",
       "    </tr>\n",
       "    <tr>\n",
       "      <th>6</th>\n",
       "      <td>Elite Core EC-WBP 3.5mm FM to XLRF Wired Body ...</td>\n",
       "      <td>$21.99</td>\n",
       "    </tr>\n",
       "    <tr>\n",
       "      <th>7</th>\n",
       "      <td>Sennheiser CX300  II  CX 300 II Precision Enha...</td>\n",
       "      <td>$25.00</td>\n",
       "    </tr>\n",
       "    <tr>\n",
       "      <th>8</th>\n",
       "      <td>1MORE Triple Driver in-Ear Earphones Hi-Res He...</td>\n",
       "      <td>$71.41</td>\n",
       "    </tr>\n",
       "    <tr>\n",
       "      <th>9</th>\n",
       "      <td>Earbuds/Headphones/Earphones,3.5mm Wired Headp...</td>\n",
       "      <td>$14.99</td>\n",
       "    </tr>\n",
       "    <tr>\n",
       "      <th>10</th>\n",
       "      <td>RCA [Upgraded] Active Noise Cancelling Headpho...</td>\n",
       "      <td>$49.99</td>\n",
       "    </tr>\n",
       "    <tr>\n",
       "      <th>11</th>\n",
       "      <td>Sony MDR-ZX100/RED ZX-Series Monitor Headphone...</td>\n",
       "      <td>$24.99</td>\n",
       "    </tr>\n",
       "    <tr>\n",
       "      <th>12</th>\n",
       "      <td>Philips ActionFit Sports Earhook Headphones SH...</td>\n",
       "      <td>$24.99</td>\n",
       "    </tr>\n",
       "    <tr>\n",
       "      <th>13</th>\n",
       "      <td>Sony MDREX10LP/BLK In-Ear Headphones</td>\n",
       "      <td>$24.99</td>\n",
       "    </tr>\n",
       "    <tr>\n",
       "      <th>14</th>\n",
       "      <td>Sony MDRAS200 Active Sports Headphones (Black)</td>\n",
       "      <td>$24.99</td>\n",
       "    </tr>\n",
       "    <tr>\n",
       "      <th>15</th>\n",
       "      <td>JVC Blue Flat and Foldable Colorful Flats On E...</td>\n",
       "      <td>$10.99</td>\n",
       "    </tr>\n",
       "    <tr>\n",
       "      <th>16</th>\n",
       "      <td>StarTech.com Headset Adapter, Microphone and H...</td>\n",
       "      <td>$7.25</td>\n",
       "    </tr>\n",
       "    <tr>\n",
       "      <th>17</th>\n",
       "      <td>Universal Waterproof Headphone Protection Pouc...</td>\n",
       "      <td>$6.88</td>\n",
       "    </tr>\n",
       "    <tr>\n",
       "      <th>18</th>\n",
       "      <td>Hard Storage Case for JBL Everest 700/E45BT/E5...</td>\n",
       "      <td>$8.99</td>\n",
       "    </tr>\n",
       "    <tr>\n",
       "      <th>19</th>\n",
       "      <td>Sephia SP3060 Earbuds, Noise Isolating in Ear ...</td>\n",
       "      <td>$12.95</td>\n",
       "    </tr>\n",
       "    <tr>\n",
       "      <th>20</th>\n",
       "      <td>Android Earbuds Headphones with Remote &amp; Micro...</td>\n",
       "      <td>$7.99</td>\n",
       "    </tr>\n",
       "    <tr>\n",
       "      <th>21</th>\n",
       "      <td>Rockpapa On Ear Stereo Headphones Earphones fo...</td>\n",
       "      <td>$10.99</td>\n",
       "    </tr>\n",
       "  </tbody>\n",
       "</table>\n",
       "</div>"
      ],
      "text/plain": [
       "                                                    0       1\n",
       "0   COWIN E7 Active Noise Cancelling Headphones Bl...  $49.99\n",
       "1   Panasonic ErgoFit In-Ear Earbud Headphones RP-...   $9.01\n",
       "2                           Sony MDRE9LP/BLK Ear Buds   $9.12\n",
       "3   House of Marley Smile Jamaica Wired Noise Canc...  $24.99\n",
       "4       Jabra Move Wireless Stereo Headphones - Black  $49.99\n",
       "5   Skullcandy S2DUDZ058 Headphone Earbud (Discont...   $8.99\n",
       "6   Elite Core EC-WBP 3.5mm FM to XLRF Wired Body ...  $21.99\n",
       "7   Sennheiser CX300  II  CX 300 II Precision Enha...  $25.00\n",
       "8   1MORE Triple Driver in-Ear Earphones Hi-Res He...  $71.41\n",
       "9   Earbuds/Headphones/Earphones,3.5mm Wired Headp...  $14.99\n",
       "10  RCA [Upgraded] Active Noise Cancelling Headpho...  $49.99\n",
       "11  Sony MDR-ZX100/RED ZX-Series Monitor Headphone...  $24.99\n",
       "12  Philips ActionFit Sports Earhook Headphones SH...  $24.99\n",
       "13               Sony MDREX10LP/BLK In-Ear Headphones  $24.99\n",
       "14     Sony MDRAS200 Active Sports Headphones (Black)  $24.99\n",
       "15  JVC Blue Flat and Foldable Colorful Flats On E...  $10.99\n",
       "16  StarTech.com Headset Adapter, Microphone and H...   $7.25\n",
       "17  Universal Waterproof Headphone Protection Pouc...   $6.88\n",
       "18  Hard Storage Case for JBL Everest 700/E45BT/E5...   $8.99\n",
       "19  Sephia SP3060 Earbuds, Noise Isolating in Ear ...  $12.95\n",
       "20  Android Earbuds Headphones with Remote & Micro...   $7.99\n",
       "21  Rockpapa On Ear Stereo Headphones Earphones fo...  $10.99"
      ]
     },
     "execution_count": 20,
     "metadata": {
      "tags": []
     },
     "output_type": "execute_result"
    }
   ],
   "source": [
    "import pandas as pd\n",
    "data_items = dictionary.items()\n",
    "data_list = list(data_items)\n",
    "pd.DataFrame.from_dict(data_list)"
   ]
  },
  {
   "cell_type": "markdown",
   "metadata": {
    "colab_type": "text",
    "id": "UmrxzxzArnWT"
   },
   "source": [
    "## Scrape Data - Google shopping"
   ]
  },
  {
   "cell_type": "code",
   "execution_count": 0,
   "metadata": {
    "colab": {
     "base_uri": "https://localhost:8080/",
     "height": 122
    },
    "colab_type": "code",
    "id": "ypZg5DTKriIM",
    "outputId": "7f5f8c88-4f00-4c1c-dbc6-8111472ca8e7"
   },
   "outputs": [
    {
     "name": "stdout",
     "output_type": "stream",
     "text": [
      "['Panasonic RP-HT161-K Over-Ear Headphones - Black', 'SleepPhones Wireless - AA Royal Blue (Breeze Fabric) / One Size Fits Most', 'Bose A20 Aviation Bluetooth Wireless Over-Ear Headset - Noise-Canceling', 'TV Wireless Headphones - Silver', 'Flow - Over-Ear Bluetooth Hybrid Noise Cancelling Wireless Headphone', 'Bowers & Wilkins PX7 Bluetooth Wireless Over-Ear Headphones with Mic - Noise-Canceling - Space Gray', 'Bose A20 Headset with Bluetooth High Impedance for Military', 'Flow II - Wireless Bluetooth Noise Cancelling Over Ear Headphone with Google Assistant', 'Samsung Galaxy Buds True Wireless In-Ear Headphones (Black)', 'Bose QuietComfort 25 Acoustic Over-Ear Headphones with Mic - Noise-Canceling - Black', 'Refurbished Beats by Dr. Dre Studio3 Wireless Matte Black Over Ear Headphones MQ562LL/A', 'Beats Studio3 Bluetooth Wireless Over-Ear Headphones with Mic - Noise-Canceling - Defiant Black/Red', 'Sony Noise Cancelling Wireless Bluetooth Over the Ear Headphones WH1000XM3 Black', 'Beats Studio3 Bluetooth Wireless Over-Ear Headphones with Mic - Noise-Canceling - Red', 'Refurbished Beats by Dr. Dre Studio3 Wireless Matte Black Over Ear Headphones MQ562LL/A(6 Colors)', 'BlvkPods | BlackPods Original Earpods | Wireless Earphones | BluPandas', 'JBL Kids Wired On-Ear Headphones, Size None, Red', 'Bose QuietComfort 35 II Wireless Noise Cancelling Headphones, Black', 'Beats Solo3 RED Bluetooth Wireless On-Ear Headphones with Mic - Citrus Red', 'Samsung - Galaxy Buds True Wireless Earbud Headphones - Silver', 'AKG Y500 Bluetooth Wireless On-Ear Headphones with Mic - Green']\n",
      "['$22.99.', '$55.00.', '$1,095.95.', '$99.99.', '$199.99.', '$348.98.', '$1,095.95.', '$279.99.', '$129.99.', '$299.95.', '$11.52.', '$59.99.', '$279.00.', '$59.99.', '$12.84.', '$36.99.', '$24.96.', '$254.99.', '$49.99.', '$129.99.', '$149.99.']\n",
      "21\n",
      "21\n",
      "{'Panasonic RP-HT161-K Over-Ear Headphones - Black': '$22.99.', 'SleepPhones Wireless - AA Royal Blue (Breeze Fabric) / One Size Fits Most': '$55.00.', 'Bose A20 Aviation Bluetooth Wireless Over-Ear Headset - Noise-Canceling': '$1,095.95.', 'TV Wireless Headphones - Silver': '$99.99.', 'Flow - Over-Ear Bluetooth Hybrid Noise Cancelling Wireless Headphone': '$199.99.', 'Bowers & Wilkins PX7 Bluetooth Wireless Over-Ear Headphones with Mic - Noise-Canceling - Space Gray': '$348.98.', 'Bose A20 Headset with Bluetooth High Impedance for Military': '$1,095.95.', 'Flow II - Wireless Bluetooth Noise Cancelling Over Ear Headphone with Google Assistant': '$279.99.', 'Samsung Galaxy Buds True Wireless In-Ear Headphones (Black)': '$129.99.', 'Bose QuietComfort 25 Acoustic Over-Ear Headphones with Mic - Noise-Canceling - Black': '$299.95.', 'Refurbished Beats by Dr. Dre Studio3 Wireless Matte Black Over Ear Headphones MQ562LL/A': '$11.52.', 'Beats Studio3 Bluetooth Wireless Over-Ear Headphones with Mic - Noise-Canceling - Defiant Black/Red': '$59.99.', 'Sony Noise Cancelling Wireless Bluetooth Over the Ear Headphones WH1000XM3 Black': '$279.00.', 'Beats Studio3 Bluetooth Wireless Over-Ear Headphones with Mic - Noise-Canceling - Red': '$59.99.', 'Refurbished Beats by Dr. Dre Studio3 Wireless Matte Black Over Ear Headphones MQ562LL/A(6 Colors)': '$12.84.', 'BlvkPods | BlackPods Original Earpods | Wireless Earphones | BluPandas': '$36.99.', 'JBL Kids Wired On-Ear Headphones, Size None, Red': '$24.96.', 'Bose QuietComfort 35 II Wireless Noise Cancelling Headphones, Black': '$254.99.', 'Beats Solo3 RED Bluetooth Wireless On-Ear Headphones with Mic - Citrus Red': '$49.99.', 'Samsung - Galaxy Buds True Wireless Earbud Headphones - Silver': '$129.99.', 'AKG Y500 Bluetooth Wireless On-Ear Headphones with Mic - Green': '$149.99.'}\n"
     ]
    }
   ],
   "source": [
    "# Scrape from google shopping\n",
    "url=\"https://www.google.com/search?tbm=shop&hl=en-HK&source=hp&biw=&bih=&q=headphones&oq=headp&gs_l=products-cc.3.0.0l10.5626.6736.0.8092.5.5.0.0.0.0.76.348.5.5.0....0...1ac.1.34.products-cc..0.5.348.bgXmiKW5Ibw\"\n",
    "webpage = web_browser(url)\n",
    "soup = s(webpage,'html.parser')\n",
    "models = [p.text for p in soup.find_all(\"h3\", class_=\"xsRiS\")]\n",
    "print(models)\n",
    "\n",
    "prices = [p.text for p in soup.find_all(\"span\", class_=\"Nr22bf\")]\n",
    "print(prices)\n",
    "\n",
    "print(len(models))\n",
    "print(len(prices))\n",
    "dictionary = dict(zip(models, prices))\n",
    "print(dictionary)"
   ]
  },
  {
   "cell_type": "code",
   "execution_count": 0,
   "metadata": {
    "colab": {
     "base_uri": "https://localhost:8080/",
     "height": 700
    },
    "colab_type": "code",
    "id": "fxDOqyp4rtx5",
    "outputId": "3f36cc3e-985c-47c6-8053-0904f0347f88"
   },
   "outputs": [
    {
     "data": {
      "text/html": [
       "<div>\n",
       "<style scoped>\n",
       "    .dataframe tbody tr th:only-of-type {\n",
       "        vertical-align: middle;\n",
       "    }\n",
       "\n",
       "    .dataframe tbody tr th {\n",
       "        vertical-align: top;\n",
       "    }\n",
       "\n",
       "    .dataframe thead th {\n",
       "        text-align: right;\n",
       "    }\n",
       "</style>\n",
       "<table border=\"1\" class=\"dataframe\">\n",
       "  <thead>\n",
       "    <tr style=\"text-align: right;\">\n",
       "      <th></th>\n",
       "      <th>0</th>\n",
       "      <th>1</th>\n",
       "    </tr>\n",
       "  </thead>\n",
       "  <tbody>\n",
       "    <tr>\n",
       "      <th>0</th>\n",
       "      <td>Panasonic RP-HT161-K Over-Ear Headphones - Black</td>\n",
       "      <td>$22.99.</td>\n",
       "    </tr>\n",
       "    <tr>\n",
       "      <th>1</th>\n",
       "      <td>SleepPhones Wireless - AA Royal Blue (Breeze F...</td>\n",
       "      <td>$55.00.</td>\n",
       "    </tr>\n",
       "    <tr>\n",
       "      <th>2</th>\n",
       "      <td>Bose A20 Aviation Bluetooth Wireless Over-Ear ...</td>\n",
       "      <td>$1,095.95.</td>\n",
       "    </tr>\n",
       "    <tr>\n",
       "      <th>3</th>\n",
       "      <td>TV Wireless Headphones - Silver</td>\n",
       "      <td>$99.99.</td>\n",
       "    </tr>\n",
       "    <tr>\n",
       "      <th>4</th>\n",
       "      <td>Flow - Over-Ear Bluetooth Hybrid Noise Cancell...</td>\n",
       "      <td>$199.99.</td>\n",
       "    </tr>\n",
       "    <tr>\n",
       "      <th>5</th>\n",
       "      <td>Bowers &amp; Wilkins PX7 Bluetooth Wireless Over-E...</td>\n",
       "      <td>$348.98.</td>\n",
       "    </tr>\n",
       "    <tr>\n",
       "      <th>6</th>\n",
       "      <td>Bose A20 Headset with Bluetooth High Impedance...</td>\n",
       "      <td>$1,095.95.</td>\n",
       "    </tr>\n",
       "    <tr>\n",
       "      <th>7</th>\n",
       "      <td>Flow II - Wireless Bluetooth Noise Cancelling ...</td>\n",
       "      <td>$279.99.</td>\n",
       "    </tr>\n",
       "    <tr>\n",
       "      <th>8</th>\n",
       "      <td>Samsung Galaxy Buds True Wireless In-Ear Headp...</td>\n",
       "      <td>$129.99.</td>\n",
       "    </tr>\n",
       "    <tr>\n",
       "      <th>9</th>\n",
       "      <td>Bose QuietComfort 25 Acoustic Over-Ear Headpho...</td>\n",
       "      <td>$299.95.</td>\n",
       "    </tr>\n",
       "    <tr>\n",
       "      <th>10</th>\n",
       "      <td>Refurbished Beats by Dr. Dre Studio3 Wireless ...</td>\n",
       "      <td>$11.52.</td>\n",
       "    </tr>\n",
       "    <tr>\n",
       "      <th>11</th>\n",
       "      <td>Beats Studio3 Bluetooth Wireless Over-Ear Head...</td>\n",
       "      <td>$59.99.</td>\n",
       "    </tr>\n",
       "    <tr>\n",
       "      <th>12</th>\n",
       "      <td>Sony Noise Cancelling Wireless Bluetooth Over ...</td>\n",
       "      <td>$279.00.</td>\n",
       "    </tr>\n",
       "    <tr>\n",
       "      <th>13</th>\n",
       "      <td>Beats Studio3 Bluetooth Wireless Over-Ear Head...</td>\n",
       "      <td>$59.99.</td>\n",
       "    </tr>\n",
       "    <tr>\n",
       "      <th>14</th>\n",
       "      <td>Refurbished Beats by Dr. Dre Studio3 Wireless ...</td>\n",
       "      <td>$12.84.</td>\n",
       "    </tr>\n",
       "    <tr>\n",
       "      <th>15</th>\n",
       "      <td>BlvkPods | BlackPods Original Earpods | Wirele...</td>\n",
       "      <td>$36.99.</td>\n",
       "    </tr>\n",
       "    <tr>\n",
       "      <th>16</th>\n",
       "      <td>JBL Kids Wired On-Ear Headphones, Size None, Red</td>\n",
       "      <td>$24.96.</td>\n",
       "    </tr>\n",
       "    <tr>\n",
       "      <th>17</th>\n",
       "      <td>Bose QuietComfort 35 II Wireless Noise Cancell...</td>\n",
       "      <td>$254.99.</td>\n",
       "    </tr>\n",
       "    <tr>\n",
       "      <th>18</th>\n",
       "      <td>Beats Solo3 RED Bluetooth Wireless On-Ear Head...</td>\n",
       "      <td>$49.99.</td>\n",
       "    </tr>\n",
       "    <tr>\n",
       "      <th>19</th>\n",
       "      <td>Samsung - Galaxy Buds True Wireless Earbud Hea...</td>\n",
       "      <td>$129.99.</td>\n",
       "    </tr>\n",
       "    <tr>\n",
       "      <th>20</th>\n",
       "      <td>AKG Y500 Bluetooth Wireless On-Ear Headphones ...</td>\n",
       "      <td>$149.99.</td>\n",
       "    </tr>\n",
       "  </tbody>\n",
       "</table>\n",
       "</div>"
      ],
      "text/plain": [
       "                                                    0           1\n",
       "0    Panasonic RP-HT161-K Over-Ear Headphones - Black     $22.99.\n",
       "1   SleepPhones Wireless - AA Royal Blue (Breeze F...     $55.00.\n",
       "2   Bose A20 Aviation Bluetooth Wireless Over-Ear ...  $1,095.95.\n",
       "3                     TV Wireless Headphones - Silver     $99.99.\n",
       "4   Flow - Over-Ear Bluetooth Hybrid Noise Cancell...    $199.99.\n",
       "5   Bowers & Wilkins PX7 Bluetooth Wireless Over-E...    $348.98.\n",
       "6   Bose A20 Headset with Bluetooth High Impedance...  $1,095.95.\n",
       "7   Flow II - Wireless Bluetooth Noise Cancelling ...    $279.99.\n",
       "8   Samsung Galaxy Buds True Wireless In-Ear Headp...    $129.99.\n",
       "9   Bose QuietComfort 25 Acoustic Over-Ear Headpho...    $299.95.\n",
       "10  Refurbished Beats by Dr. Dre Studio3 Wireless ...     $11.52.\n",
       "11  Beats Studio3 Bluetooth Wireless Over-Ear Head...     $59.99.\n",
       "12  Sony Noise Cancelling Wireless Bluetooth Over ...    $279.00.\n",
       "13  Beats Studio3 Bluetooth Wireless Over-Ear Head...     $59.99.\n",
       "14  Refurbished Beats by Dr. Dre Studio3 Wireless ...     $12.84.\n",
       "15  BlvkPods | BlackPods Original Earpods | Wirele...     $36.99.\n",
       "16   JBL Kids Wired On-Ear Headphones, Size None, Red     $24.96.\n",
       "17  Bose QuietComfort 35 II Wireless Noise Cancell...    $254.99.\n",
       "18  Beats Solo3 RED Bluetooth Wireless On-Ear Head...     $49.99.\n",
       "19  Samsung - Galaxy Buds True Wireless Earbud Hea...    $129.99.\n",
       "20  AKG Y500 Bluetooth Wireless On-Ear Headphones ...    $149.99."
      ]
     },
     "execution_count": 22,
     "metadata": {
      "tags": []
     },
     "output_type": "execute_result"
    }
   ],
   "source": [
    "import pandas as pd\n",
    "data_items = dictionary.items()\n",
    "data_list = list(data_items)\n",
    "pd.DataFrame.from_dict(data_list)"
   ]
  },
  {
   "cell_type": "code",
   "execution_count": 0,
   "metadata": {
    "colab": {},
    "colab_type": "code",
    "id": "XbV9HGvJrwY7"
   },
   "outputs": [],
   "source": []
  }
 ],
 "metadata": {
  "colab": {
   "collapsed_sections": [],
   "name": "Price_Scrapping_2.ipynb",
   "provenance": []
  },
  "kernelspec": {
   "display_name": "Python 3",
   "language": "python",
   "name": "python3"
  },
  "language_info": {
   "codemirror_mode": {
    "name": "ipython",
    "version": 3
   },
   "file_extension": ".py",
   "mimetype": "text/x-python",
   "name": "python",
   "nbconvert_exporter": "python",
   "pygments_lexer": "ipython3",
   "version": "3.6.9"
  }
 },
 "nbformat": 4,
 "nbformat_minor": 1
}
